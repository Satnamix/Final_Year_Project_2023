{
  "cells": [
    {
      "cell_type": "markdown",
      "metadata": {
        "id": "view-in-github",
        "colab_type": "text"
      },
      "source": [
        "<a href=\"https://colab.research.google.com/github/Nkashyap-anand/human-posture-estimation/blob/main/128_4_TF_CNN_human_posture_estimation.ipynb\" target=\"_parent\"><img src=\"https://colab.research.google.com/assets/colab-badge.svg\" alt=\"Open In Colab\"/></a>"
      ]
    },
    {
      "cell_type": "code",
      "execution_count": 1,
      "metadata": {
        "id": "cd0284b2"
      },
      "outputs": [],
      "source": [
        "from tensorflow.keras.preprocessing.image import ImageDataGenerator\n",
        "from tensorflow.keras.preprocessing import image\n",
        "from tensorflow.keras.optimizers import RMSprop\n",
        "import tensorflow as tf\n",
        "import numpy as np\n",
        "from time import sleep as s\n",
        "import cv2\n",
        "import os\n",
        "import pandas as pd\n",
        "import random as rm"
      ],
      "id": "cd0284b2"
    },
    {
      "cell_type": "code",
      "execution_count": 2,
      "metadata": {
        "id": "9a33e609"
      },
      "outputs": [],
      "source": [
        "train = ImageDataGenerator(rescale=1/255)\n",
        "validation = ImageDataGenerator(rescale=1/255)"
      ],
      "id": "9a33e609"
    },
    {
      "cell_type": "code",
      "execution_count": 3,
      "metadata": {
        "colab": {
          "base_uri": "https://localhost:8080/"
        },
        "id": "fZEMC3jNrLQr",
        "outputId": "5640605c-b8d7-4fc4-cc54-b29468726e76"
      },
      "outputs": [
        {
          "output_type": "stream",
          "name": "stdout",
          "text": [
            "Mounted at /content/drive\n"
          ]
        }
      ],
      "source": [
        "from google.colab import drive\n",
        "drive.mount('/content/drive')"
      ],
      "id": "fZEMC3jNrLQr"
    },
    {
      "cell_type": "code",
      "execution_count": 4,
      "metadata": {
        "colab": {
          "base_uri": "https://localhost:8080/"
        },
        "id": "65eaaaad",
        "outputId": "8f580b12-62fd-4862-e858-d01777794d66"
      },
      "outputs": [
        {
          "output_type": "stream",
          "name": "stdout",
          "text": [
            "Found 2880 images belonging to 4 classes.\n",
            "Found 960 images belonging to 4 classes.\n",
            "Found 960 images belonging to 4 classes.\n"
          ]
        }
      ],
      "source": [
        "train_dataset = train.flow_from_directory( \"/content/drive/MyDrive/posture/training\",\n",
        "                                          target_size= (512,512),\n",
        "                                          batch_size= 4,\n",
        "                                          class_mode=\"categorical\")\n",
        "validation_dataset = train.flow_from_directory( \"/content/drive/MyDrive/posture/validation\",\n",
        "                                          target_size= (512,512),\n",
        "                                          batch_size= 4,\n",
        "                                          class_mode=\"categorical\")\n",
        "test_dataset = train.flow_from_directory(\"/content/drive/MyDrive/posture/testing\",\n",
        "                                    target_size= (512,512),\n",
        "                                    batch_size= 4,\n",
        "                                    class_mode=\"categorical\")"
      ],
      "id": "65eaaaad"
    },
    {
      "cell_type": "code",
      "execution_count": 5,
      "metadata": {
        "id": "7fc2b83a"
      },
      "outputs": [],
      "source": [
        "model = tf.keras.models.Sequential([\n",
        "tf.keras.layers.Conv2D(128,(3,3),activation =\"relu\", input_shape =(512,512,3)),\n",
        "tf.keras.layers.MaxPool2D(2,2),\n",
        "tf.keras.layers.Conv2D(128,(3,3),activation =\"relu\"),\n",
        "tf.keras.layers.MaxPool2D(2,2),\n",
        "tf.keras.layers.Conv2D(128,(3,3),activation =\"relu\"),\n",
        "tf.keras.layers.MaxPool2D(2,2),\n",
        "# tf.keras.layers.Conv2D(128,(3,3),activation =\"relu\"),\n",
        "# tf.keras.layers.MaxPool2D(2,2),\n",
        "# tf.keras.layers.Conv2D(256,(3,3),activation =\"relu\"),\n",
        "# tf.keras.layers.MaxPool2D(2,2),\n",
        "tf.keras.layers.Flatten(),\n",
        "tf.keras.layers.Dense(128, activation = \"relu\"),\n",
        "tf.keras.layers.Dense(4,activation =\"softmax\")])"
      ],
      "id": "7fc2b83a"
    },
    {
      "cell_type": "code",
      "execution_count": 6,
      "metadata": {
        "colab": {
          "base_uri": "https://localhost:8080/"
        },
        "id": "a1aa7f10",
        "outputId": "e636382f-3a9f-4b94-f549-641ba7f0ba18",
        "scrolled": false
      },
      "outputs": [
        {
          "output_type": "stream",
          "name": "stdout",
          "text": [
            "Model: \"sequential\"\n",
            "_________________________________________________________________\n",
            " Layer (type)                Output Shape              Param #   \n",
            "=================================================================\n",
            " conv2d (Conv2D)             (None, 510, 510, 128)     3584      \n",
            "                                                                 \n",
            " max_pooling2d (MaxPooling2D  (None, 255, 255, 128)    0         \n",
            " )                                                               \n",
            "                                                                 \n",
            " conv2d_1 (Conv2D)           (None, 253, 253, 128)     147584    \n",
            "                                                                 \n",
            " max_pooling2d_1 (MaxPooling  (None, 126, 126, 128)    0         \n",
            " 2D)                                                             \n",
            "                                                                 \n",
            " conv2d_2 (Conv2D)           (None, 124, 124, 128)     147584    \n",
            "                                                                 \n",
            " max_pooling2d_2 (MaxPooling  (None, 62, 62, 128)      0         \n",
            " 2D)                                                             \n",
            "                                                                 \n",
            " flatten (Flatten)           (None, 492032)            0         \n",
            "                                                                 \n",
            " dense (Dense)               (None, 128)               62980224  \n",
            "                                                                 \n",
            " dense_1 (Dense)             (None, 4)                 516       \n",
            "                                                                 \n",
            "=================================================================\n",
            "Total params: 63,279,492\n",
            "Trainable params: 63,279,492\n",
            "Non-trainable params: 0\n",
            "_________________________________________________________________\n"
          ]
        }
      ],
      "source": [
        "model.summary()"
      ],
      "id": "a1aa7f10"
    },
    {
      "cell_type": "code",
      "execution_count": 7,
      "metadata": {
        "id": "1b3261bb"
      },
      "outputs": [],
      "source": [
        "model.compile(loss=\"categorical_crossentropy\" , optimizer=\"adam\" ,metrics =[\"accuracy\"])"
      ],
      "id": "1b3261bb"
    },
    {
      "cell_type": "code",
      "execution_count": 8,
      "metadata": {
        "colab": {
          "base_uri": "https://localhost:8080/"
        },
        "id": "ff88bdba",
        "scrolled": true,
        "outputId": "1d7c5b3a-7106-468b-c059-465df05c742b"
      },
      "outputs": [
        {
          "output_type": "stream",
          "name": "stdout",
          "text": [
            "Epoch 1/50\n",
            "32/32 [==============================] - 944s 30s/step - loss: 2.0493 - accuracy: 0.4609 - val_loss: 1.3205 - val_accuracy: 0.6052\n",
            "Epoch 2/50\n",
            "32/32 [==============================] - 91s 3s/step - loss: 0.9211 - accuracy: 0.5859 - val_loss: 0.8467 - val_accuracy: 0.6635\n",
            "Epoch 3/50\n",
            "32/32 [==============================] - 88s 3s/step - loss: 0.6806 - accuracy: 0.7109 - val_loss: 0.7431 - val_accuracy: 0.7271\n",
            "Epoch 4/50\n",
            "32/32 [==============================] - 78s 2s/step - loss: 0.6587 - accuracy: 0.7422 - val_loss: 0.6911 - val_accuracy: 0.7344\n",
            "Epoch 5/50\n",
            "32/32 [==============================] - 73s 2s/step - loss: 0.4889 - accuracy: 0.8672 - val_loss: 0.6396 - val_accuracy: 0.7625\n",
            "Epoch 6/50\n",
            "32/32 [==============================] - 82s 3s/step - loss: 0.5487 - accuracy: 0.8125 - val_loss: 0.6036 - val_accuracy: 0.7781\n",
            "Epoch 7/50\n",
            "32/32 [==============================] - 79s 2s/step - loss: 0.4287 - accuracy: 0.8828 - val_loss: 0.5986 - val_accuracy: 0.7823\n",
            "Epoch 8/50\n",
            "32/32 [==============================] - 74s 2s/step - loss: 0.4581 - accuracy: 0.8203 - val_loss: 0.6063 - val_accuracy: 0.7896\n",
            "Epoch 9/50\n",
            "32/32 [==============================] - 72s 2s/step - loss: 0.4903 - accuracy: 0.8359 - val_loss: 0.6050 - val_accuracy: 0.7885\n",
            "Epoch 10/50\n",
            "32/32 [==============================] - 66s 2s/step - loss: 0.4416 - accuracy: 0.8438 - val_loss: 0.6950 - val_accuracy: 0.7865\n",
            "Epoch 11/50\n",
            "32/32 [==============================] - 61s 2s/step - loss: 0.3962 - accuracy: 0.8750 - val_loss: 0.5967 - val_accuracy: 0.7906\n",
            "Epoch 12/50\n",
            "32/32 [==============================] - 58s 2s/step - loss: 0.2006 - accuracy: 0.9453 - val_loss: 0.7614 - val_accuracy: 0.7833\n",
            "Epoch 13/50\n",
            "32/32 [==============================] - 61s 2s/step - loss: 0.3535 - accuracy: 0.8984 - val_loss: 0.5658 - val_accuracy: 0.8062\n",
            "Epoch 14/50\n",
            "32/32 [==============================] - 48s 1s/step - loss: 0.4731 - accuracy: 0.8516 - val_loss: 0.5558 - val_accuracy: 0.8031\n",
            "Epoch 15/50\n",
            "32/32 [==============================] - 51s 2s/step - loss: 0.3871 - accuracy: 0.8906 - val_loss: 0.6549 - val_accuracy: 0.7708\n",
            "Epoch 16/50\n",
            "32/32 [==============================] - 53s 2s/step - loss: 0.3719 - accuracy: 0.8594 - val_loss: 0.6239 - val_accuracy: 0.7865\n",
            "Epoch 17/50\n",
            "32/32 [==============================] - 52s 2s/step - loss: 0.3424 - accuracy: 0.8672 - val_loss: 0.6319 - val_accuracy: 0.8146\n",
            "Epoch 18/50\n",
            "32/32 [==============================] - 39s 1s/step - loss: 0.2133 - accuracy: 0.9297 - val_loss: 0.5186 - val_accuracy: 0.8281\n",
            "Epoch 19/50\n",
            "32/32 [==============================] - 47s 1s/step - loss: 0.3487 - accuracy: 0.9062 - val_loss: 0.4866 - val_accuracy: 0.8323\n",
            "Epoch 20/50\n",
            "32/32 [==============================] - 50s 2s/step - loss: 0.3094 - accuracy: 0.8906 - val_loss: 0.5410 - val_accuracy: 0.8146\n",
            "Epoch 21/50\n",
            "32/32 [==============================] - 35s 1s/step - loss: 0.2858 - accuracy: 0.8906 - val_loss: 0.5042 - val_accuracy: 0.8125\n",
            "Epoch 22/50\n",
            "32/32 [==============================] - 49s 2s/step - loss: 0.2805 - accuracy: 0.9141 - val_loss: 0.5041 - val_accuracy: 0.8354\n",
            "Epoch 23/50\n",
            "32/32 [==============================] - 40s 1s/step - loss: 0.3993 - accuracy: 0.9062 - val_loss: 0.5388 - val_accuracy: 0.8125\n",
            "Epoch 24/50\n",
            "32/32 [==============================] - 35s 1s/step - loss: 0.2267 - accuracy: 0.9453 - val_loss: 0.5545 - val_accuracy: 0.8302\n",
            "Epoch 25/50\n",
            "32/32 [==============================] - 48s 1s/step - loss: 0.2611 - accuracy: 0.9297 - val_loss: 0.5164 - val_accuracy: 0.8250\n",
            "Epoch 26/50\n",
            "32/32 [==============================] - 35s 1s/step - loss: 0.3223 - accuracy: 0.9141 - val_loss: 0.4607 - val_accuracy: 0.8458\n",
            "Epoch 27/50\n",
            "32/32 [==============================] - 35s 1s/step - loss: 0.1804 - accuracy: 0.9453 - val_loss: 0.6014 - val_accuracy: 0.8313\n",
            "Epoch 28/50\n",
            "32/32 [==============================] - 40s 1s/step - loss: 0.1798 - accuracy: 0.9453 - val_loss: 0.5197 - val_accuracy: 0.8427\n",
            "Epoch 29/50\n",
            "32/32 [==============================] - 36s 1s/step - loss: 0.2525 - accuracy: 0.9219 - val_loss: 0.6248 - val_accuracy: 0.7823\n",
            "Epoch 30/50\n",
            "32/32 [==============================] - 36s 1s/step - loss: 0.2290 - accuracy: 0.9219 - val_loss: 0.5146 - val_accuracy: 0.8281\n",
            "Epoch 31/50\n",
            "32/32 [==============================] - 34s 1s/step - loss: 0.3131 - accuracy: 0.9062 - val_loss: 0.5106 - val_accuracy: 0.8219\n",
            "Epoch 32/50\n",
            "32/32 [==============================] - 27s 856ms/step - loss: 0.2402 - accuracy: 0.9141 - val_loss: 0.4814 - val_accuracy: 0.8354\n",
            "Epoch 33/50\n",
            "32/32 [==============================] - 27s 846ms/step - loss: 0.1635 - accuracy: 0.9531 - val_loss: 0.5203 - val_accuracy: 0.8458\n",
            "Epoch 34/50\n",
            "32/32 [==============================] - 29s 898ms/step - loss: 0.0829 - accuracy: 0.9688 - val_loss: 0.7912 - val_accuracy: 0.8156\n",
            "Epoch 35/50\n",
            "32/32 [==============================] - 24s 770ms/step - loss: 0.1356 - accuracy: 0.9688 - val_loss: 0.6609 - val_accuracy: 0.8167\n",
            "Epoch 36/50\n",
            "32/32 [==============================] - 27s 842ms/step - loss: 0.1763 - accuracy: 0.9531 - val_loss: 0.8447 - val_accuracy: 0.8281\n",
            "Epoch 37/50\n",
            "32/32 [==============================] - 27s 878ms/step - loss: 0.1587 - accuracy: 0.9453 - val_loss: 0.8342 - val_accuracy: 0.7688\n",
            "Epoch 38/50\n",
            "32/32 [==============================] - 23s 704ms/step - loss: 0.1452 - accuracy: 0.9453 - val_loss: 0.9882 - val_accuracy: 0.7875\n",
            "Epoch 39/50\n",
            "32/32 [==============================] - 27s 851ms/step - loss: 0.1737 - accuracy: 0.9453 - val_loss: 0.6544 - val_accuracy: 0.8281\n",
            "Epoch 40/50\n",
            "32/32 [==============================] - 27s 866ms/step - loss: 0.0781 - accuracy: 0.9766 - val_loss: 0.5822 - val_accuracy: 0.8344\n",
            "Epoch 41/50\n",
            "32/32 [==============================] - 28s 904ms/step - loss: 0.2234 - accuracy: 0.9375 - val_loss: 0.4951 - val_accuracy: 0.8344\n",
            "Epoch 42/50\n",
            "32/32 [==============================] - 22s 685ms/step - loss: 0.1465 - accuracy: 0.9453 - val_loss: 0.5830 - val_accuracy: 0.8188\n",
            "Epoch 43/50\n",
            "32/32 [==============================] - 25s 791ms/step - loss: 0.1377 - accuracy: 0.9688 - val_loss: 0.5735 - val_accuracy: 0.8427\n",
            "Epoch 44/50\n",
            "32/32 [==============================] - 19s 606ms/step - loss: 0.0510 - accuracy: 0.9844 - val_loss: 0.6233 - val_accuracy: 0.8333\n",
            "Epoch 45/50\n",
            "32/32 [==============================] - 24s 725ms/step - loss: 0.0685 - accuracy: 0.9766 - val_loss: 0.6949 - val_accuracy: 0.8073\n",
            "Epoch 46/50\n",
            "32/32 [==============================] - 22s 710ms/step - loss: 0.0680 - accuracy: 0.9844 - val_loss: 0.6131 - val_accuracy: 0.8385\n",
            "Epoch 47/50\n",
            "32/32 [==============================] - 21s 665ms/step - loss: 0.1364 - accuracy: 0.9609 - val_loss: 0.5346 - val_accuracy: 0.8427\n",
            "Epoch 48/50\n",
            "32/32 [==============================] - 18s 584ms/step - loss: 0.0592 - accuracy: 0.9766 - val_loss: 0.6466 - val_accuracy: 0.8427\n",
            "Epoch 49/50\n",
            "32/32 [==============================] - 18s 565ms/step - loss: 0.0980 - accuracy: 0.9766 - val_loss: 0.8539 - val_accuracy: 0.8052\n",
            "Epoch 50/50\n",
            "32/32 [==============================] - 22s 720ms/step - loss: 0.1039 - accuracy: 0.9688 - val_loss: 0.7202 - val_accuracy: 0.8396\n"
          ]
        }
      ],
      "source": [
        "model_fit = model.fit(train_dataset,\n",
        "                     steps_per_epoch= 32,\n",
        "                     epochs= 50,\n",
        "                     validation_data= validation_dataset)"
      ],
      "id": "ff88bdba"
    },
    {
      "cell_type": "code",
      "execution_count": 9,
      "metadata": {
        "id": "b1275c3a",
        "colab": {
          "base_uri": "https://localhost:8080/"
        },
        "outputId": "23b0a7bf-34ca-4ecf-8740-0d1fedaeba3c"
      },
      "outputs": [
        {
          "output_type": "stream",
          "name": "stdout",
          "text": [
            "240/240 [==============================] - 829s 3s/step\n"
          ]
        },
        {
          "output_type": "execute_result",
          "data": {
            "text/plain": [
              "array([[5.65901518e-01, 1.08137596e-04, 8.98318598e-04, 4.33092028e-01],\n",
              "       [3.20403597e-05, 5.70609745e-06, 6.56809832e-04, 9.99305367e-01],\n",
              "       [8.87526941e-09, 1.00000000e+00, 2.72113287e-09, 5.90032800e-10],\n",
              "       ...,\n",
              "       [9.85911175e-09, 1.00000000e+00, 8.88587337e-09, 1.83161473e-15],\n",
              "       [1.33680822e-02, 2.20896467e-03, 9.22614932e-01, 6.18080050e-02],\n",
              "       [9.55099722e-07, 6.84802080e-06, 2.34008092e-03, 9.97652113e-01]],\n",
              "      dtype=float32)"
            ]
          },
          "metadata": {},
          "execution_count": 9
        }
      ],
      "source": [
        "test_predictions = model.predict(test_dataset)\n",
        "test_predictions"
      ],
      "id": "b1275c3a"
    },
    {
      "cell_type": "code",
      "execution_count": 10,
      "metadata": {
        "id": "YSrYyCiTO7L7",
        "colab": {
          "base_uri": "https://localhost:8080/",
          "height": 279
        },
        "outputId": "ac45d5a5-0359-4f09-9f55-0663cdc0c0f0"
      },
      "outputs": [
        {
          "output_type": "display_data",
          "data": {
            "text/plain": [
              "<Figure size 432x288 with 1 Axes>"
            ],
            "image/png": "[encoded data removed]"
          },
          "metadata": {
            "needs_background": "light"
          }
        }
      ],
      "source": [
        "import matplotlib.pyplot as plt\n",
        "# Get training and test loss histories\n",
        "training_loss = model_fit.history['loss']\n",
        "test_loss = model_fit.history['val_loss']\n",
        "\n",
        "# Create count of the number of epochs\n",
        "epoch_count = range(1, len(training_loss) + 1)\n",
        "\n",
        "# Visualize loss history\n",
        "plt.plot(epoch_count, training_loss, 'r--')\n",
        "plt.plot(epoch_count, test_loss, 'b-')\n",
        "plt.legend(['Training Loss', 'Test Loss'])\n",
        "plt.xlabel('Epoch')\n",
        "plt.ylabel('Loss')\n",
        "plt.show();"
      ],
      "id": "YSrYyCiTO7L7"
    },
    {
      "cell_type": "code",
      "source": [
        "loss = model_fit.history['loss']\n",
        "accuracy = model_fit.history['accuracy']\n",
        "\n",
        "# Create count of the number of epochs\n",
        "epoch_count = range(1, len(accuracy) + 1)\n",
        "\n",
        "# Visualize loss history\n",
        "plt.plot(epoch_count, loss, 'r--')\n",
        "plt.plot(epoch_count, accuracy, 'b-')\n",
        "plt.legend(['loss', 'accuracy'])\n",
        "plt.xlabel('Epoch')\n",
        "plt.ylabel('Accuracy')\n",
        "plt.show();"
      ],
      "metadata": {
        "id": "_MKR_lk9j0yR",
        "colab": {
          "base_uri": "https://localhost:8080/",
          "height": 279
        },
        "outputId": "e8c84a3e-43e5-488c-a3f3-d9ded38fa927"
      },
      "id": "_MKR_lk9j0yR",
      "execution_count": 11,
      "outputs": [
        {
          "output_type": "display_data",
          "data": {
            "text/plain": [
              "<Figure size 432x288 with 1 Axes>"
            ],
            "image/png": "[encoded data removed]"
          },
          "metadata": {
            "needs_background": "light"
          }
        }
      ]
    }
  ],
  "metadata": {
    "accelerator": "GPU",
    "colab": {
      "collapsed_sections": [],
      "provenance": [],
      "include_colab_link": true
    },
    "kernelspec": {
      "display_name": "gputest",
      "language": "python",
      "name": "gputest"
    },
    "language_info": {
      "codemirror_mode": {
        "name": "ipython",
        "version": 3
      },
      "file_extension": ".py",
      "mimetype": "text/x-python",
      "name": "python",
      "nbconvert_exporter": "python",
      "pygments_lexer": "ipython3",
      "version": "3.9.12"
    }
  },
  "nbformat": 4,
  "nbformat_minor": 5
}