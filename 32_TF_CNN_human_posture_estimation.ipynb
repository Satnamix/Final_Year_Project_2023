{
  "cells": [
    {
      "cell_type": "markdown",
      "metadata": {
        "id": "view-in-github",
        "colab_type": "text"
      },
      "source": [
        "<a href=\"https://colab.research.google.com/github/Nkashyap-anand/human-posture-estimation/blob/main/32_TF_CNN_human_posture_estimation.ipynb\" target=\"_parent\"><img src=\"https://colab.research.google.com/assets/colab-badge.svg\" alt=\"Open In Colab\"/></a>"
      ]
    },
    {
      "cell_type": "code",
      "execution_count": null,
      "metadata": {
        "colab": {
          "base_uri": "https://localhost:8080/"
        },
        "id": "fZEMC3jNrLQr",
        "outputId": "7afcb67c-f9bb-434b-acdb-f5ea1b4597b9"
      },
      "outputs": [
        {
          "output_type": "stream",
          "name": "stdout",
          "text": [
            "Drive already mounted at /content/drive; to attempt to forcibly remount, call drive.mount(\"/content/drive\", force_remount=True).\n"
          ]
        }
      ],
      "source": [
        "from google.colab import drive\n",
        "drive.mount('/content/drive')"
      ],
      "id": "fZEMC3jNrLQr"
    },
    {
      "cell_type": "code",
      "execution_count": null,
      "metadata": {
        "id": "cd0284b2"
      },
      "outputs": [],
      "source": [
        "from tensorflow.keras.preprocessing.image import ImageDataGenerator\n",
        "from tensorflow.keras.preprocessing import image\n",
        "from tensorflow.keras.optimizers import RMSprop\n",
        "import tensorflow as tf\n",
        "import numpy as np\n",
        "from time import sleep as s\n",
        "import cv2\n",
        "import os\n",
        "import pandas as pd\n",
        "import random as rm"
      ],
      "id": "cd0284b2"
    },
    {
      "cell_type": "code",
      "execution_count": null,
      "metadata": {
        "id": "9a33e609"
      },
      "outputs": [],
      "source": [
        "train = ImageDataGenerator(rescale=1/255)\n",
        "validation = ImageDataGenerator(rescale=1/255)"
      ],
      "id": "9a33e609"
    },
    {
      "cell_type": "code",
      "execution_count": null,
      "metadata": {
        "colab": {
          "base_uri": "https://localhost:8080/"
        },
        "id": "65eaaaad",
        "outputId": "25d2beea-39cb-4ccb-848a-7f2f3bf5a890"
      },
      "outputs": [
        {
          "output_type": "stream",
          "name": "stdout",
          "text": [
            "Found 2880 images belonging to 4 classes.\n",
            "Found 960 images belonging to 4 classes.\n",
            "Found 960 images belonging to 4 classes.\n"
          ]
        }
      ],
      "source": [
        "train_dataset = train.flow_from_directory( \"/content/drive/MyDrive/posture/training\",\n",
        "                                          target_size= (512,512),\n",
        "                                          batch_size= 4,\n",
        "                                          class_mode=\"categorical\")\n",
        "validation_dataset = train.flow_from_directory( \"/content/drive/MyDrive/posture/validation\",\n",
        "                                          target_size= (512,512),\n",
        "                                          batch_size= 4,\n",
        "                                          class_mode=\"categorical\")\n",
        "test_dataset = train.flow_from_directory(\"/content/drive/MyDrive/posture/testing\",\n",
        "                                    target_size= (512,512),\n",
        "                                    batch_size= 4,\n",
        "                                    class_mode=\"categorical\")"
      ],
      "id": "65eaaaad"
    },
    {
      "cell_type": "code",
      "execution_count": null,
      "metadata": {
        "id": "7fc2b83a"
      },
      "outputs": [],
      "source": [
        "model = tf.keras.models.Sequential([\n",
        "tf.keras.layers.Conv2D(32,(3,3),activation =\"relu\", input_shape =(512,512,3)),\n",
        "tf.keras.layers.MaxPool2D(2,2),\n",
        "tf.keras.layers.Conv2D(32,(3,3),activation =\"relu\"),\n",
        "tf.keras.layers.MaxPool2D(2,2),\n",
        "tf.keras.layers.Conv2D(32,(3,3),activation =\"relu\"),\n",
        "tf.keras.layers.MaxPool2D(2,2),\n",
        "# tf.keras.layers.Conv2D(128,(3,3),activation =\"relu\"),\n",
        "# tf.keras.layers.MaxPool2D(2,2),\n",
        "# tf.keras.layers.Conv2D(256,(3,3),activation =\"relu\"),\n",
        "# tf.keras.layers.MaxPool2D(2,2),\n",
        "tf.keras.layers.Flatten(),\n",
        "tf.keras.layers.Dense(32, activation = \"relu\"),\n",
        "tf.keras.layers.Dense(4,activation =\"softmax\")])"
      ],
      "id": "7fc2b83a"
    },
    {
      "cell_type": "code",
      "execution_count": null,
      "metadata": {
        "colab": {
          "base_uri": "https://localhost:8080/"
        },
        "id": "a1aa7f10",
        "outputId": "53f5970b-0c52-4335-ec1b-c7fe5ba9dd9c",
        "scrolled": false
      },
      "outputs": [
        {
          "output_type": "stream",
          "name": "stdout",
          "text": [
            "Model: \"sequential\"\n",
            "_________________________________________________________________\n",
            " Layer (type)                Output Shape              Param #   \n",
            "=================================================================\n",
            " conv2d (Conv2D)             (None, 510, 510, 32)      896       \n",
            "                                                                 \n",
            " max_pooling2d (MaxPooling2D  (None, 255, 255, 32)     0         \n",
            " )                                                               \n",
            "                                                                 \n",
            " conv2d_1 (Conv2D)           (None, 253, 253, 32)      9248      \n",
            "                                                                 \n",
            " max_pooling2d_1 (MaxPooling  (None, 126, 126, 32)     0         \n",
            " 2D)                                                             \n",
            "                                                                 \n",
            " conv2d_2 (Conv2D)           (None, 124, 124, 32)      9248      \n",
            "                                                                 \n",
            " max_pooling2d_2 (MaxPooling  (None, 62, 62, 32)       0         \n",
            " 2D)                                                             \n",
            "                                                                 \n",
            " flatten (Flatten)           (None, 123008)            0         \n",
            "                                                                 \n",
            " dense (Dense)               (None, 32)                3936288   \n",
            "                                                                 \n",
            " dense_1 (Dense)             (None, 4)                 132       \n",
            "                                                                 \n",
            "=================================================================\n",
            "Total params: 3,955,812\n",
            "Trainable params: 3,955,812\n",
            "Non-trainable params: 0\n",
            "_________________________________________________________________\n"
          ]
        }
      ],
      "source": [
        "model.summary()"
      ],
      "id": "a1aa7f10"
    },
    {
      "cell_type": "code",
      "execution_count": null,
      "metadata": {
        "id": "1b3261bb"
      },
      "outputs": [],
      "source": [
        "model.compile(loss=\"categorical_crossentropy\" , optimizer=\"adam\" ,metrics =[\"accuracy\"])"
      ],
      "id": "1b3261bb"
    },
    {
      "cell_type": "code",
      "execution_count": null,
      "metadata": {
        "colab": {
          "base_uri": "https://localhost:8080/"
        },
        "id": "ff88bdba",
        "scrolled": true,
        "outputId": "94e066c1-894e-440f-a355-f82657b8f7a3"
      },
      "outputs": [
        {
          "output_type": "stream",
          "name": "stdout",
          "text": [
            "Epoch 1/50\n",
            "32/32 [==============================] - 320s 10s/step - loss: 1.5667 - accuracy: 0.3594 - val_loss: 1.0187 - val_accuracy: 0.5031\n",
            "Epoch 2/50\n",
            "32/32 [==============================] - 32s 1s/step - loss: 1.0378 - accuracy: 0.6406 - val_loss: 0.8369 - val_accuracy: 0.6750\n",
            "Epoch 3/50\n",
            "32/32 [==============================] - 31s 958ms/step - loss: 0.7208 - accuracy: 0.7109 - val_loss: 0.8830 - val_accuracy: 0.6438\n",
            "Epoch 4/50\n",
            "32/32 [==============================] - 29s 915ms/step - loss: 0.8955 - accuracy: 0.6641 - val_loss: 0.8023 - val_accuracy: 0.7125\n",
            "Epoch 5/50\n",
            "32/32 [==============================] - 30s 935ms/step - loss: 0.5887 - accuracy: 0.7969 - val_loss: 0.7743 - val_accuracy: 0.7292\n",
            "Epoch 6/50\n",
            "32/32 [==============================] - 28s 880ms/step - loss: 0.5344 - accuracy: 0.8125 - val_loss: 0.6875 - val_accuracy: 0.7490\n",
            "Epoch 7/50\n",
            "32/32 [==============================] - 27s 832ms/step - loss: 0.7153 - accuracy: 0.7500 - val_loss: 0.6812 - val_accuracy: 0.7615\n",
            "Epoch 8/50\n",
            "32/32 [==============================] - 27s 868ms/step - loss: 0.5348 - accuracy: 0.8203 - val_loss: 0.7542 - val_accuracy: 0.7458\n",
            "Epoch 9/50\n",
            "32/32 [==============================] - 24s 770ms/step - loss: 0.5548 - accuracy: 0.8125 - val_loss: 0.6764 - val_accuracy: 0.7448\n",
            "Epoch 10/50\n",
            "32/32 [==============================] - 25s 786ms/step - loss: 0.5688 - accuracy: 0.7891 - val_loss: 0.6619 - val_accuracy: 0.7469\n",
            "Epoch 11/50\n",
            "32/32 [==============================] - 25s 767ms/step - loss: 0.3314 - accuracy: 0.8828 - val_loss: 0.6457 - val_accuracy: 0.7719\n",
            "Epoch 12/50\n",
            "32/32 [==============================] - 26s 836ms/step - loss: 0.4831 - accuracy: 0.8438 - val_loss: 0.6239 - val_accuracy: 0.7781\n",
            "Epoch 13/50\n",
            "32/32 [==============================] - 23s 724ms/step - loss: 0.3571 - accuracy: 0.8438 - val_loss: 0.6130 - val_accuracy: 0.7750\n",
            "Epoch 14/50\n",
            "32/32 [==============================] - 21s 668ms/step - loss: 0.3453 - accuracy: 0.8984 - val_loss: 0.6276 - val_accuracy: 0.7937\n",
            "Epoch 15/50\n",
            "32/32 [==============================] - 22s 683ms/step - loss: 0.3264 - accuracy: 0.9219 - val_loss: 0.6054 - val_accuracy: 0.7979\n",
            "Epoch 16/50\n",
            "32/32 [==============================] - 19s 612ms/step - loss: 0.3667 - accuracy: 0.8906 - val_loss: 0.5893 - val_accuracy: 0.7917\n",
            "Epoch 17/50\n",
            "32/32 [==============================] - 22s 678ms/step - loss: 0.3672 - accuracy: 0.8750 - val_loss: 0.5940 - val_accuracy: 0.7958\n",
            "Epoch 18/50\n",
            "32/32 [==============================] - 22s 712ms/step - loss: 0.3310 - accuracy: 0.8828 - val_loss: 0.6044 - val_accuracy: 0.8000\n",
            "Epoch 19/50\n",
            "32/32 [==============================] - 22s 690ms/step - loss: 0.4283 - accuracy: 0.8828 - val_loss: 0.6427 - val_accuracy: 0.7688\n",
            "Epoch 20/50\n",
            "32/32 [==============================] - 19s 589ms/step - loss: 0.3574 - accuracy: 0.8906 - val_loss: 0.5296 - val_accuracy: 0.8115\n",
            "Epoch 21/50\n",
            "32/32 [==============================] - 17s 552ms/step - loss: 0.2571 - accuracy: 0.9062 - val_loss: 0.5773 - val_accuracy: 0.8000\n",
            "Epoch 22/50\n",
            "32/32 [==============================] - 17s 532ms/step - loss: 0.2298 - accuracy: 0.9141 - val_loss: 0.5399 - val_accuracy: 0.8094\n",
            "Epoch 23/50\n",
            "32/32 [==============================] - 19s 606ms/step - loss: 0.2419 - accuracy: 0.9062 - val_loss: 0.5181 - val_accuracy: 0.8073\n",
            "Epoch 24/50\n",
            "32/32 [==============================] - 17s 548ms/step - loss: 0.2353 - accuracy: 0.8906 - val_loss: 0.5307 - val_accuracy: 0.8177\n",
            "Epoch 25/50\n",
            "32/32 [==============================] - 16s 515ms/step - loss: 0.3190 - accuracy: 0.8906 - val_loss: 0.5514 - val_accuracy: 0.8052\n",
            "Epoch 26/50\n",
            "32/32 [==============================] - 17s 515ms/step - loss: 0.2860 - accuracy: 0.9062 - val_loss: 0.5529 - val_accuracy: 0.8156\n",
            "Epoch 27/50\n",
            "32/32 [==============================] - 18s 583ms/step - loss: 0.1588 - accuracy: 0.9375 - val_loss: 0.6208 - val_accuracy: 0.8031\n",
            "Epoch 28/50\n",
            "32/32 [==============================] - 18s 560ms/step - loss: 0.3191 - accuracy: 0.8984 - val_loss: 0.5464 - val_accuracy: 0.8188\n",
            "Epoch 29/50\n",
            "32/32 [==============================] - 16s 512ms/step - loss: 0.2093 - accuracy: 0.9531 - val_loss: 0.5700 - val_accuracy: 0.8104\n",
            "Epoch 30/50\n",
            "32/32 [==============================] - 14s 463ms/step - loss: 0.1869 - accuracy: 0.9375 - val_loss: 0.5546 - val_accuracy: 0.8292\n",
            "Epoch 31/50\n",
            "32/32 [==============================] - 15s 461ms/step - loss: 0.1524 - accuracy: 0.9531 - val_loss: 0.5984 - val_accuracy: 0.8250\n",
            "Epoch 32/50\n",
            "32/32 [==============================] - 15s 475ms/step - loss: 0.1527 - accuracy: 0.9297 - val_loss: 0.5419 - val_accuracy: 0.8208\n",
            "Epoch 33/50\n",
            "32/32 [==============================] - 13s 429ms/step - loss: 0.2336 - accuracy: 0.9219 - val_loss: 0.5212 - val_accuracy: 0.8323\n",
            "Epoch 34/50\n",
            "32/32 [==============================] - 15s 496ms/step - loss: 0.2361 - accuracy: 0.9531 - val_loss: 0.5112 - val_accuracy: 0.8323\n",
            "Epoch 35/50\n",
            "32/32 [==============================] - 13s 418ms/step - loss: 0.2388 - accuracy: 0.9219 - val_loss: 0.4686 - val_accuracy: 0.8385\n",
            "Epoch 36/50\n",
            "32/32 [==============================] - 11s 369ms/step - loss: 0.1583 - accuracy: 0.9375 - val_loss: 0.5495 - val_accuracy: 0.8323\n",
            "Epoch 37/50\n",
            "32/32 [==============================] - 14s 457ms/step - loss: 0.1246 - accuracy: 0.9297 - val_loss: 0.5708 - val_accuracy: 0.8333\n",
            "Epoch 38/50\n",
            "32/32 [==============================] - 12s 381ms/step - loss: 0.2572 - accuracy: 0.9219 - val_loss: 0.5463 - val_accuracy: 0.8281\n",
            "Epoch 39/50\n",
            "32/32 [==============================] - 13s 420ms/step - loss: 0.1143 - accuracy: 0.9609 - val_loss: 0.4924 - val_accuracy: 0.8490\n",
            "Epoch 40/50\n",
            "32/32 [==============================] - 14s 451ms/step - loss: 0.2290 - accuracy: 0.9453 - val_loss: 0.4677 - val_accuracy: 0.8438\n",
            "Epoch 41/50\n",
            "32/32 [==============================] - 14s 461ms/step - loss: 0.0932 - accuracy: 0.9766 - val_loss: 0.5528 - val_accuracy: 0.8375\n",
            "Epoch 42/50\n",
            "32/32 [==============================] - 11s 355ms/step - loss: 0.1388 - accuracy: 0.9688 - val_loss: 0.6540 - val_accuracy: 0.8135\n",
            "Epoch 43/50\n",
            "32/32 [==============================] - 11s 364ms/step - loss: 0.2623 - accuracy: 0.9297 - val_loss: 0.5295 - val_accuracy: 0.8198\n",
            "Epoch 44/50\n",
            "32/32 [==============================] - 11s 344ms/step - loss: 0.1543 - accuracy: 0.9531 - val_loss: 0.5313 - val_accuracy: 0.8177\n",
            "Epoch 45/50\n",
            "32/32 [==============================] - 14s 449ms/step - loss: 0.1745 - accuracy: 0.9375 - val_loss: 0.5450 - val_accuracy: 0.8219\n",
            "Epoch 46/50\n",
            "32/32 [==============================] - 11s 353ms/step - loss: 0.1240 - accuracy: 0.9688 - val_loss: 0.5554 - val_accuracy: 0.8229\n",
            "Epoch 47/50\n",
            "32/32 [==============================] - 11s 356ms/step - loss: 0.1296 - accuracy: 0.9688 - val_loss: 0.5015 - val_accuracy: 0.8417\n",
            "Epoch 48/50\n",
            "32/32 [==============================] - 10s 320ms/step - loss: 0.0509 - accuracy: 0.9922 - val_loss: 0.5254 - val_accuracy: 0.8469\n",
            "Epoch 49/50\n",
            "32/32 [==============================] - 11s 352ms/step - loss: 0.0796 - accuracy: 0.9766 - val_loss: 0.6083 - val_accuracy: 0.8281\n",
            "Epoch 50/50\n",
            "32/32 [==============================] - 12s 369ms/step - loss: 0.1569 - accuracy: 0.9609 - val_loss: 0.5302 - val_accuracy: 0.8302\n"
          ]
        }
      ],
      "source": [
        "model_fit = model.fit(train_dataset,\n",
        "                     steps_per_epoch= 32,\n",
        "                     epochs= 50,\n",
        "                     validation_data= validation_dataset)"
      ],
      "id": "ff88bdba"
    },
    {
      "cell_type": "code",
      "execution_count": null,
      "metadata": {
        "id": "b1275c3a",
        "colab": {
          "base_uri": "https://localhost:8080/"
        },
        "outputId": "ca38d71c-8dad-40df-fa9f-c6d72f669d67"
      },
      "outputs": [
        {
          "output_type": "execute_result",
          "data": {
            "text/plain": [
              "array([[9.6572447e-01, 5.2763103e-03, 2.8951785e-02, 4.7435464e-05],\n",
              "       [8.9124101e-01, 2.9156259e-03, 9.8368458e-02, 7.4748434e-03],\n",
              "       [2.0068199e-05, 9.9992430e-01, 5.4593278e-05, 1.1315205e-06],\n",
              "       ...,\n",
              "       [2.6258791e-04, 1.2671999e-03, 2.4392440e-03, 9.9603099e-01],\n",
              "       [1.2515086e-01, 1.1390621e-01, 7.5970906e-01, 1.2338823e-03],\n",
              "       [9.7476429e-01, 1.3464291e-03, 2.5498569e-03, 2.1339487e-02]],\n",
              "      dtype=float32)"
            ]
          },
          "metadata": {},
          "execution_count": 10
        }
      ],
      "source": [
        "test_predictions = model.predict(test_dataset)\n",
        "test_predictions"
      ],
      "id": "b1275c3a"
    },
    {
      "cell_type": "code",
      "execution_count": null,
      "metadata": {
        "id": "YSrYyCiTO7L7",
        "colab": {
          "base_uri": "https://localhost:8080/",
          "height": 279
        },
        "outputId": "a1da0bc3-e844-4839-a06e-8b95f52bb354"
      },
      "outputs": [
        {
          "output_type": "display_data",
          "data": {
            "text/plain": [
              "<Figure size 432x288 with 1 Axes>"
            ],
            "image/png": "[encoded data removed]"
          },
          "metadata": {
            "needs_background": "light"
          }
        }
      ],
      "source": [
        "import matplotlib.pyplot as plt\n",
        "# Get training and test loss histories\n",
        "training_loss = model_fit.history['loss']\n",
        "test_loss = model_fit.history['val_loss']\n",
        "\n",
        "# Create count of the number of epochs\n",
        "epoch_count = range(1, len(training_loss) + 1)\n",
        "\n",
        "# Visualize loss history\n",
        "plt.plot(epoch_count, training_loss, 'r--')\n",
        "plt.plot(epoch_count, test_loss, 'b-')\n",
        "plt.legend(['Training Loss', 'Test Loss'])\n",
        "plt.xlabel('Epoch')\n",
        "plt.ylabel('Loss')\n",
        "plt.show();"
      ],
      "id": "YSrYyCiTO7L7"
    },
    {
      "cell_type": "code",
      "source": [
        "loss = model_fit.history['loss']\n",
        "accuracy = model_fit.history['accuracy']\n",
        "\n",
        "# Create count of the number of epochs\n",
        "epoch_count = range(1, len(accuracy) + 1)\n",
        "\n",
        "# Visualize loss history\n",
        "plt.plot(epoch_count, loss, 'r--')\n",
        "plt.plot(epoch_count, accuracy, 'b-')\n",
        "plt.legend(['loss', 'accuracy'])\n",
        "plt.xlabel('Epoch')\n",
        "plt.ylabel('Accuracy')\n",
        "plt.show();"
      ],
      "metadata": {
        "id": "_MKR_lk9j0yR",
        "colab": {
          "base_uri": "https://localhost:8080/",
          "height": 279
        },
        "outputId": "6d64a9cb-6ffd-4bdf-e871-9397746f4db2"
      },
      "id": "_MKR_lk9j0yR",
      "execution_count": null,
      "outputs": [
        {
          "output_type": "display_data",
          "data": {
            "text/plain": [
              "<Figure size 432x288 with 1 Axes>"
            ],
            "image/png": "[encoded data removed]"
          },
          "metadata": {
            "needs_background": "light"
          }
        }
      ]
    }
  ],
  "metadata": {
    "accelerator": "GPU",
    "colab": {
      "collapsed_sections": [],
      "provenance": [],
      "include_colab_link": true
    },
    "kernelspec": {
      "display_name": "gputest",
      "language": "python",
      "name": "gputest"
    },
    "language_info": {
      "codemirror_mode": {
        "name": "ipython",
        "version": 3
      },
      "file_extension": ".py",
      "mimetype": "text/x-python",
      "name": "python",
      "nbconvert_exporter": "python",
      "pygments_lexer": "ipython3",
      "version": "3.9.12"
    }
  },
  "nbformat": 4,
  "nbformat_minor": 5
}