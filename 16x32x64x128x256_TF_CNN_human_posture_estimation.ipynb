{
  "cells": [
    {
      "cell_type": "markdown",
      "metadata": {
        "id": "view-in-github",
        "colab_type": "text"
      },
      "source": [
        "<a href=\"https://colab.research.google.com/github/Nkashyap-anand/human-posture-estimation/blob/main/16x32x64x128x256_TF_CNN_human_posture_estimation.ipynb\" target=\"_parent\"><img src=\"https://colab.research.google.com/assets/colab-badge.svg\" alt=\"Open In Colab\"/></a>"
      ]
    },
    {
      "cell_type": "code",
      "execution_count": 1,
      "metadata": {
        "id": "cd0284b2"
      },
      "outputs": [],
      "source": [
        "from tensorflow.keras.preprocessing.image import ImageDataGenerator\n",
        "from tensorflow.keras.preprocessing import image\n",
        "from tensorflow.keras.optimizers import RMSprop\n",
        "import tensorflow as tf\n",
        "import numpy as np\n",
        "from time import sleep as s\n",
        "import cv2\n",
        "import os\n",
        "import pandas as pd\n",
        "import random as rm"
      ],
      "id": "cd0284b2"
    },
    {
      "cell_type": "code",
      "execution_count": 2,
      "metadata": {
        "id": "9a33e609"
      },
      "outputs": [],
      "source": [
        "train = ImageDataGenerator(rescale=1/255)\n",
        "validation = ImageDataGenerator(rescale=1/255)"
      ],
      "id": "9a33e609"
    },
    {
      "cell_type": "code",
      "execution_count": 5,
      "metadata": {
        "colab": {
          "base_uri": "https://localhost:8080/"
        },
        "id": "fZEMC3jNrLQr",
        "outputId": "05afa026-c989-4bce-f247-924df041c620"
      },
      "outputs": [
        {
          "output_type": "stream",
          "name": "stdout",
          "text": [
            "Drive already mounted at /content/drive; to attempt to forcibly remount, call drive.mount(\"/content/drive\", force_remount=True).\n"
          ]
        }
      ],
      "source": [
        "from google.colab import drive\n",
        "drive.mount('/content/drive')"
      ],
      "id": "fZEMC3jNrLQr"
    },
    {
      "cell_type": "code",
      "execution_count": 6,
      "metadata": {
        "colab": {
          "base_uri": "https://localhost:8080/"
        },
        "id": "65eaaaad",
        "outputId": "f6b12279-b150-425f-e9c5-3779a78d777a"
      },
      "outputs": [
        {
          "output_type": "stream",
          "name": "stdout",
          "text": [
            "Found 2880 images belonging to 4 classes.\n",
            "Found 960 images belonging to 4 classes.\n",
            "Found 960 images belonging to 4 classes.\n"
          ]
        }
      ],
      "source": [
        "train_dataset = train.flow_from_directory( \"/content/drive/MyDrive/posture/training\",\n",
        "                                          target_size= (512,512),\n",
        "                                          batch_size= 4,\n",
        "                                          class_mode=\"categorical\")\n",
        "validation_dataset = train.flow_from_directory( \"/content/drive/MyDrive/posture/validation\",\n",
        "                                          target_size= (512,512),\n",
        "                                          batch_size= 4,\n",
        "                                          class_mode=\"categorical\")\n",
        "test_dataset = train.flow_from_directory(\"/content/drive/MyDrive/posture/testing\",\n",
        "                                    target_size= (512,512),\n",
        "                                    batch_size= 4,\n",
        "                                    class_mode=\"categorical\")"
      ],
      "id": "65eaaaad"
    },
    {
      "cell_type": "code",
      "execution_count": 7,
      "metadata": {
        "id": "7fc2b83a"
      },
      "outputs": [],
      "source": [
        "model = tf.keras.models.Sequential([\n",
        "tf.keras.layers.Conv2D(16,(3,3),activation =\"relu\", input_shape =(512,512,3)),\n",
        "tf.keras.layers.MaxPool2D(2,2),\n",
        "tf.keras.layers.Conv2D(32,(3,3),activation =\"relu\"),\n",
        "tf.keras.layers.MaxPool2D(2,2),\n",
        "tf.keras.layers.Conv2D(64,(3,3),activation =\"relu\"),\n",
        "tf.keras.layers.MaxPool2D(2,2),\n",
        "tf.keras.layers.Conv2D(128,(3,3),activation =\"relu\"),\n",
        "tf.keras.layers.MaxPool2D(2,2),\n",
        "# tf.keras.layers.Conv2D(256,(3,3),activation =\"relu\"),\n",
        "# tf.keras.layers.MaxPool2D(2,2),\n",
        "tf.keras.layers.Flatten(),\n",
        "tf.keras.layers.Dense(256, activation = \"relu\"),\n",
        "tf.keras.layers.Dense(4,activation =\"softmax\")])"
      ],
      "id": "7fc2b83a"
    },
    {
      "cell_type": "code",
      "execution_count": 8,
      "metadata": {
        "colab": {
          "base_uri": "https://localhost:8080/"
        },
        "id": "a1aa7f10",
        "outputId": "4c521bae-9e2d-467d-b587-84ed72115e87",
        "scrolled": false
      },
      "outputs": [
        {
          "output_type": "stream",
          "name": "stdout",
          "text": [
            "Model: \"sequential\"\n",
            "_________________________________________________________________\n",
            " Layer (type)                Output Shape              Param #   \n",
            "=================================================================\n",
            " conv2d (Conv2D)             (None, 510, 510, 16)      448       \n",
            "                                                                 \n",
            " max_pooling2d (MaxPooling2D  (None, 255, 255, 16)     0         \n",
            " )                                                               \n",
            "                                                                 \n",
            " conv2d_1 (Conv2D)           (None, 253, 253, 32)      4640      \n",
            "                                                                 \n",
            " max_pooling2d_1 (MaxPooling  (None, 126, 126, 32)     0         \n",
            " 2D)                                                             \n",
            "                                                                 \n",
            " conv2d_2 (Conv2D)           (None, 124, 124, 64)      18496     \n",
            "                                                                 \n",
            " max_pooling2d_2 (MaxPooling  (None, 62, 62, 64)       0         \n",
            " 2D)                                                             \n",
            "                                                                 \n",
            " conv2d_3 (Conv2D)           (None, 60, 60, 128)       73856     \n",
            "                                                                 \n",
            " max_pooling2d_3 (MaxPooling  (None, 30, 30, 128)      0         \n",
            " 2D)                                                             \n",
            "                                                                 \n",
            " flatten (Flatten)           (None, 115200)            0         \n",
            "                                                                 \n",
            " dense (Dense)               (None, 256)               29491456  \n",
            "                                                                 \n",
            " dense_1 (Dense)             (None, 4)                 1028      \n",
            "                                                                 \n",
            "=================================================================\n",
            "Total params: 29,589,924\n",
            "Trainable params: 29,589,924\n",
            "Non-trainable params: 0\n",
            "_________________________________________________________________\n"
          ]
        }
      ],
      "source": [
        "model.summary()"
      ],
      "id": "a1aa7f10"
    },
    {
      "cell_type": "code",
      "execution_count": 9,
      "metadata": {
        "id": "1b3261bb"
      },
      "outputs": [],
      "source": [
        "model.compile(loss=\"categorical_crossentropy\" , optimizer=\"adam\" ,metrics =[\"accuracy\"])"
      ],
      "id": "1b3261bb"
    },
    {
      "cell_type": "code",
      "execution_count": 10,
      "metadata": {
        "colab": {
          "base_uri": "https://localhost:8080/"
        },
        "id": "ff88bdba",
        "scrolled": true,
        "outputId": "3e81d6e1-41f6-4650-82e8-ef9c08046890"
      },
      "outputs": [
        {
          "output_type": "stream",
          "name": "stdout",
          "text": [
            "Epoch 1/50\n",
            "32/32 [==============================] - 426s 13s/step - loss: 2.0539 - accuracy: 0.3438 - val_loss: 0.9066 - val_accuracy: 0.6354\n",
            "Epoch 2/50\n",
            "32/32 [==============================] - 44s 1s/step - loss: 0.9768 - accuracy: 0.5625 - val_loss: 0.7657 - val_accuracy: 0.6979\n",
            "Epoch 3/50\n",
            "32/32 [==============================] - 46s 1s/step - loss: 0.8592 - accuracy: 0.6953 - val_loss: 0.7280 - val_accuracy: 0.7104\n",
            "Epoch 4/50\n",
            "32/32 [==============================] - 38s 1s/step - loss: 0.4817 - accuracy: 0.8203 - val_loss: 1.0793 - val_accuracy: 0.7365\n",
            "Epoch 5/50\n",
            "32/32 [==============================] - 37s 1s/step - loss: 0.7274 - accuracy: 0.8125 - val_loss: 0.6934 - val_accuracy: 0.7458\n",
            "Epoch 6/50\n",
            "32/32 [==============================] - 39s 1s/step - loss: 0.6099 - accuracy: 0.7188 - val_loss: 0.5881 - val_accuracy: 0.7885\n",
            "Epoch 7/50\n",
            "32/32 [==============================] - 40s 1s/step - loss: 0.6186 - accuracy: 0.7812 - val_loss: 0.5385 - val_accuracy: 0.8083\n",
            "Epoch 8/50\n",
            "32/32 [==============================] - 34s 1s/step - loss: 0.4377 - accuracy: 0.8594 - val_loss: 0.5781 - val_accuracy: 0.8146\n",
            "Epoch 9/50\n",
            "32/32 [==============================] - 35s 1s/step - loss: 0.5030 - accuracy: 0.8438 - val_loss: 0.6786 - val_accuracy: 0.7604\n",
            "Epoch 10/50\n",
            "32/32 [==============================] - 36s 1s/step - loss: 0.3922 - accuracy: 0.8672 - val_loss: 0.5615 - val_accuracy: 0.8062\n",
            "Epoch 11/50\n",
            "32/32 [==============================] - 32s 1000ms/step - loss: 0.3143 - accuracy: 0.9062 - val_loss: 0.6638 - val_accuracy: 0.8229\n",
            "Epoch 12/50\n",
            "32/32 [==============================] - 30s 958ms/step - loss: 0.2515 - accuracy: 0.8828 - val_loss: 0.7558 - val_accuracy: 0.7896\n",
            "Epoch 13/50\n",
            "32/32 [==============================] - 28s 885ms/step - loss: 0.7093 - accuracy: 0.8281 - val_loss: 0.5458 - val_accuracy: 0.8260\n",
            "Epoch 14/50\n",
            "32/32 [==============================] - 28s 865ms/step - loss: 0.3036 - accuracy: 0.9062 - val_loss: 0.6088 - val_accuracy: 0.8260\n",
            "Epoch 15/50\n",
            "32/32 [==============================] - 28s 888ms/step - loss: 0.3357 - accuracy: 0.9062 - val_loss: 0.5100 - val_accuracy: 0.8365\n",
            "Epoch 16/50\n",
            "32/32 [==============================] - 25s 773ms/step - loss: 0.4058 - accuracy: 0.8516 - val_loss: 0.5072 - val_accuracy: 0.8292\n",
            "Epoch 17/50\n",
            "32/32 [==============================] - 27s 864ms/step - loss: 0.2074 - accuracy: 0.9688 - val_loss: 0.5219 - val_accuracy: 0.8521\n",
            "Epoch 18/50\n",
            "32/32 [==============================] - 24s 761ms/step - loss: 0.2010 - accuracy: 0.9531 - val_loss: 0.5288 - val_accuracy: 0.8500\n",
            "Epoch 19/50\n",
            "32/32 [==============================] - 27s 857ms/step - loss: 0.2694 - accuracy: 0.9141 - val_loss: 0.5446 - val_accuracy: 0.8250\n",
            "Epoch 20/50\n",
            "32/32 [==============================] - 26s 814ms/step - loss: 0.3920 - accuracy: 0.8750 - val_loss: 0.4349 - val_accuracy: 0.8458\n",
            "Epoch 21/50\n",
            "32/32 [==============================] - 26s 818ms/step - loss: 0.4882 - accuracy: 0.8359 - val_loss: 0.4817 - val_accuracy: 0.8385\n",
            "Epoch 22/50\n",
            "32/32 [==============================] - 22s 718ms/step - loss: 0.2371 - accuracy: 0.9297 - val_loss: 0.5044 - val_accuracy: 0.8438\n",
            "Epoch 23/50\n",
            "32/32 [==============================] - 24s 758ms/step - loss: 0.2924 - accuracy: 0.8906 - val_loss: 0.4313 - val_accuracy: 0.8615\n",
            "Epoch 24/50\n",
            "32/32 [==============================] - 20s 631ms/step - loss: 0.2187 - accuracy: 0.9297 - val_loss: 0.4364 - val_accuracy: 0.8552\n",
            "Epoch 25/50\n",
            "32/32 [==============================] - 23s 703ms/step - loss: 0.2734 - accuracy: 0.9531 - val_loss: 0.4535 - val_accuracy: 0.8448\n",
            "Epoch 26/50\n",
            "32/32 [==============================] - 21s 675ms/step - loss: 0.1896 - accuracy: 0.9062 - val_loss: 0.5655 - val_accuracy: 0.8573\n",
            "Epoch 27/50\n",
            "32/32 [==============================] - 35s 1s/step - loss: 0.1919 - accuracy: 0.9375 - val_loss: 0.5441 - val_accuracy: 0.8500\n",
            "Epoch 28/50\n",
            "32/32 [==============================] - 22s 699ms/step - loss: 0.1884 - accuracy: 0.9453 - val_loss: 0.4528 - val_accuracy: 0.8667\n",
            "Epoch 29/50\n",
            "32/32 [==============================] - 20s 619ms/step - loss: 0.2768 - accuracy: 0.9375 - val_loss: 0.4191 - val_accuracy: 0.8646\n",
            "Epoch 30/50\n",
            "32/32 [==============================] - 21s 667ms/step - loss: 0.2024 - accuracy: 0.9453 - val_loss: 0.4239 - val_accuracy: 0.8646\n",
            "Epoch 31/50\n",
            "32/32 [==============================] - 21s 665ms/step - loss: 0.1435 - accuracy: 0.9531 - val_loss: 0.5114 - val_accuracy: 0.8646\n",
            "Epoch 32/50\n",
            "32/32 [==============================] - 17s 545ms/step - loss: 0.1509 - accuracy: 0.9531 - val_loss: 0.6326 - val_accuracy: 0.8365\n",
            "Epoch 33/50\n",
            "32/32 [==============================] - 19s 589ms/step - loss: 0.1233 - accuracy: 0.9375 - val_loss: 0.5579 - val_accuracy: 0.8604\n",
            "Epoch 34/50\n",
            "32/32 [==============================] - 18s 577ms/step - loss: 0.2890 - accuracy: 0.9062 - val_loss: 0.4741 - val_accuracy: 0.8531\n",
            "Epoch 35/50\n",
            "32/32 [==============================] - 17s 536ms/step - loss: 0.1627 - accuracy: 0.9453 - val_loss: 0.5066 - val_accuracy: 0.8365\n",
            "Epoch 36/50\n",
            "32/32 [==============================] - 17s 534ms/step - loss: 0.2847 - accuracy: 0.9062 - val_loss: 0.4784 - val_accuracy: 0.8635\n",
            "Epoch 37/50\n",
            "32/32 [==============================] - 17s 536ms/step - loss: 0.0520 - accuracy: 0.9922 - val_loss: 0.5305 - val_accuracy: 0.8698\n",
            "Epoch 38/50\n",
            "32/32 [==============================] - 16s 503ms/step - loss: 0.3384 - accuracy: 0.9141 - val_loss: 0.4225 - val_accuracy: 0.8594\n",
            "Epoch 39/50\n",
            "32/32 [==============================] - 15s 474ms/step - loss: 0.1154 - accuracy: 0.9688 - val_loss: 0.4844 - val_accuracy: 0.8656\n",
            "Epoch 40/50\n",
            "32/32 [==============================] - 14s 441ms/step - loss: 0.2123 - accuracy: 0.9453 - val_loss: 0.4252 - val_accuracy: 0.8646\n",
            "Epoch 41/50\n",
            "32/32 [==============================] - 14s 445ms/step - loss: 0.0947 - accuracy: 0.9688 - val_loss: 0.5534 - val_accuracy: 0.8719\n",
            "Epoch 42/50\n",
            "32/32 [==============================] - 19s 609ms/step - loss: 0.3170 - accuracy: 0.9219 - val_loss: 0.4478 - val_accuracy: 0.8542\n",
            "Epoch 43/50\n",
            "32/32 [==============================] - 14s 423ms/step - loss: 0.1030 - accuracy: 0.9844 - val_loss: 0.4460 - val_accuracy: 0.8760\n",
            "Epoch 44/50\n",
            "32/32 [==============================] - 16s 527ms/step - loss: 0.1500 - accuracy: 0.9375 - val_loss: 0.4644 - val_accuracy: 0.8750\n",
            "Epoch 45/50\n",
            "32/32 [==============================] - 14s 459ms/step - loss: 0.1372 - accuracy: 0.9531 - val_loss: 0.5030 - val_accuracy: 0.8698\n",
            "Epoch 46/50\n",
            "32/32 [==============================] - 13s 431ms/step - loss: 0.2028 - accuracy: 0.9453 - val_loss: 0.4195 - val_accuracy: 0.8646\n",
            "Epoch 47/50\n",
            "32/32 [==============================] - 14s 426ms/step - loss: 0.1700 - accuracy: 0.9531 - val_loss: 0.4301 - val_accuracy: 0.8646\n",
            "Epoch 48/50\n",
            "32/32 [==============================] - 12s 388ms/step - loss: 0.2266 - accuracy: 0.9219 - val_loss: 0.4322 - val_accuracy: 0.8635\n",
            "Epoch 49/50\n",
            "32/32 [==============================] - 13s 411ms/step - loss: 0.0916 - accuracy: 0.9688 - val_loss: 0.4896 - val_accuracy: 0.8625\n",
            "Epoch 50/50\n",
            "32/32 [==============================] - 11s 346ms/step - loss: 0.1312 - accuracy: 0.9609 - val_loss: 0.4677 - val_accuracy: 0.8667\n"
          ]
        }
      ],
      "source": [
        "model_fit = model.fit(train_dataset,\n",
        "                     steps_per_epoch= 32,\n",
        "                     epochs= 50,\n",
        "                     validation_data= validation_dataset)"
      ],
      "id": "ff88bdba"
    },
    {
      "cell_type": "code",
      "execution_count": 11,
      "metadata": {
        "id": "b1275c3a",
        "colab": {
          "base_uri": "https://localhost:8080/"
        },
        "outputId": "ca32fe5b-8c73-4723-ba97-b990f2856ceb"
      },
      "outputs": [
        {
          "output_type": "stream",
          "name": "stdout",
          "text": [
            "240/240 [==============================] - 369s 2s/step\n"
          ]
        },
        {
          "output_type": "execute_result",
          "data": {
            "text/plain": [
              "array([[7.13969648e-01, 1.32602616e-03, 1.17114280e-06, 2.84703106e-01],\n",
              "       [8.93193111e-02, 2.04582029e-05, 5.16155541e-01, 3.94504756e-01],\n",
              "       [9.65334693e-05, 9.99900699e-01, 2.68756799e-06, 1.12239285e-08],\n",
              "       ...,\n",
              "       [9.99947906e-01, 1.85628593e-07, 4.22206140e-05, 9.59377303e-06],\n",
              "       [7.63858610e-04, 7.65914228e-05, 8.46613431e-04, 9.98312950e-01],\n",
              "       [2.16238230e-04, 3.21345681e-07, 9.99584258e-01, 1.99192975e-04]],\n",
              "      dtype=float32)"
            ]
          },
          "metadata": {},
          "execution_count": 11
        }
      ],
      "source": [
        "test_predictions = model.predict(test_dataset)\n",
        "test_predictions"
      ],
      "id": "b1275c3a"
    },
    {
      "cell_type": "code",
      "execution_count": 12,
      "metadata": {
        "id": "YSrYyCiTO7L7",
        "colab": {
          "base_uri": "https://localhost:8080/",
          "height": 279
        },
        "outputId": "b035b3b6-cee7-4068-ec29-434d8ad5f42a"
      },
      "outputs": [
        {
          "output_type": "display_data",
          "data": {
            "text/plain": [
              "<Figure size 432x288 with 1 Axes>"
            ],
            "image/png": "[encoded data removed]"
          },
          "metadata": {
            "needs_background": "light"
          }
        }
      ],
      "source": [
        "import matplotlib.pyplot as plt\n",
        "# Get training and test loss histories\n",
        "training_loss = model_fit.history['loss']\n",
        "test_loss = model_fit.history['val_loss']\n",
        "\n",
        "# Create count of the number of epochs\n",
        "epoch_count = range(1, len(training_loss) + 1)\n",
        "\n",
        "# Visualize loss history\n",
        "plt.plot(epoch_count, training_loss, 'r--')\n",
        "plt.plot(epoch_count, test_loss, 'b-')\n",
        "plt.legend(['Training Loss', 'Test Loss'])\n",
        "plt.xlabel('Epoch')\n",
        "plt.ylabel('Loss')\n",
        "plt.show();"
      ],
      "id": "YSrYyCiTO7L7"
    },
    {
      "cell_type": "code",
      "source": [
        "loss = model_fit.history['loss']\n",
        "accuracy = model_fit.history['accuracy']\n",
        "\n",
        "# Create count of the number of epochs\n",
        "epoch_count = range(1, len(accuracy) + 1)\n",
        "\n",
        "# Visualize loss history\n",
        "plt.plot(epoch_count, loss, 'r--')\n",
        "plt.plot(epoch_count, accuracy, 'b-')\n",
        "plt.legend(['loss', 'accuracy'])\n",
        "plt.xlabel('Epoch')\n",
        "plt.ylabel('Accuracy')\n",
        "plt.show();"
      ],
      "metadata": {
        "id": "_MKR_lk9j0yR",
        "colab": {
          "base_uri": "https://localhost:8080/",
          "height": 279
        },
        "outputId": "403e73bd-d383-402d-e14d-508a3865c80a"
      },
      "id": "_MKR_lk9j0yR",
      "execution_count": 13,
      "outputs": [
        {
          "output_type": "display_data",
          "data": {
            "text/plain": [
              "<Figure size 432x288 with 1 Axes>"
            ],
            "image/png": "[encoded data removed]"
          },
          "metadata": {
            "needs_background": "light"
          }
        }
      ]
    }
  ],
  "metadata": {
    "accelerator": "GPU",
    "colab": {
      "collapsed_sections": [],
      "provenance": [],
      "include_colab_link": true
    },
    "kernelspec": {
      "display_name": "gputest",
      "language": "python",
      "name": "gputest"
    },
    "language_info": {
      "codemirror_mode": {
        "name": "ipython",
        "version": 3
      },
      "file_extension": ".py",
      "mimetype": "text/x-python",
      "name": "python",
      "nbconvert_exporter": "python",
      "pygments_lexer": "ipython3",
      "version": "3.9.12"
    }
  },
  "nbformat": 4,
  "nbformat_minor": 5
}