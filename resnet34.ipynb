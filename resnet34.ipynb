{
  "cells": [
    {
      "cell_type": "markdown",
      "metadata": {
        "id": "view-in-github",
        "colab_type": "text"
      },
      "source": [
        "<a href=\"https://colab.research.google.com/github/Nkashyap-anand/human-posture-estimation/blob/main/resnet34.ipynb\" target=\"_parent\"><img src=\"https://colab.research.google.com/assets/colab-badge.svg\" alt=\"Open In Colab\"/></a>"
      ]
    },
    {
      "cell_type": "code",
      "execution_count": 1,
      "metadata": {
        "colab": {
          "base_uri": "https://localhost:8080/"
        },
        "id": "NSDzaOXm7EoJ",
        "outputId": "506c0fde-7765-4b40-af73-19e9138b7b71"
      },
      "outputs": [
        {
          "output_type": "stream",
          "name": "stdout",
          "text": [
            "Mounted at /content/drive\n"
          ]
        }
      ],
      "source": [
        "from google.colab import drive\n",
        "drive.mount('/content/drive')"
      ]
    },
    {
      "cell_type": "code",
      "execution_count": 2,
      "metadata": {
        "id": "ALPQouEf7V17"
      },
      "outputs": [],
      "source": [
        "from keras.preprocessing.image import ImageDataGenerator\n",
        "from keras.layers import GlobalAveragePooling2D\n",
        "from tensorflow.keras import regularizers\n",
        "from tensorflow import keras\n",
        "from keras.layers import Input, Add, Dense, Activation, ZeroPadding2D, BatchNormalization, Flatten, Conv2D, AveragePooling2D, MaxPooling2D\n",
        "from keras.models import Model\n",
        "from sklearn.model_selection import train_test_split"
      ]
    },
    {
      "cell_type": "code",
      "execution_count": 3,
      "metadata": {
        "colab": {
          "base_uri": "https://localhost:8080/"
        },
        "id": "In1T27Q37VzE",
        "outputId": "afc217d0-1ccc-4071-f963-d83d86f36278"
      },
      "outputs": [
        {
          "output_type": "stream",
          "name": "stdout",
          "text": [
            "Found 2304 images belonging to 4 classes.\n",
            "Found 192 images belonging to 4 classes.\n"
          ]
        }
      ],
      "source": [
        "# Create ImageDataGenerator to handle loading and preprocessing images\n",
        "train_datagen = ImageDataGenerator(rescale=1./255, validation_split=0.2)\n",
        "\n",
        "# Load the images from your local storage\n",
        "train_generator = train_datagen.flow_from_directory(\n",
        "    '/content/drive/MyDrive/posture/training',\n",
        "    target_size=(512, 512),\n",
        "    color_mode='grayscale',\n",
        "    batch_size=32,\n",
        "    class_mode='categorical',\n",
        "    subset='training'\n",
        ")\n",
        "validation_generator = train_datagen.flow_from_directory(\n",
        "    '/content/drive/MyDrive/posture/validation',\n",
        "    target_size=(512, 512),\n",
        "    color_mode='grayscale',\n",
        "    batch_size=32,\n",
        "    class_mode='categorical',\n",
        "    subset='validation'\n",
        ")"
      ]
    },
    {
      "cell_type": "code",
      "execution_count": 7,
      "metadata": {
        "colab": {
          "base_uri": "https://localhost:8080/"
        },
        "id": "6mEkSDIG7Vwh",
        "outputId": "fb503594-08ae-4cac-f006-6be039a23e07"
      },
      "outputs": [
        {
          "output_type": "stream",
          "name": "stderr",
          "text": [
            "<ipython-input-7-7875ca1dad44>:100: UserWarning: `Model.fit_generator` is deprecated and will be removed in a future version. Please use `Model.fit`, which supports generators.\n",
            "  history = model.fit_generator(train_generator,\n"
          ]
        },
        {
          "output_type": "stream",
          "name": "stdout",
          "text": [
            "Epoch 1/10\n",
            "72/72 [==============================] - 547s 7s/step - loss: 1.4660 - accuracy: 0.7348 - val_loss: 272.0285 - val_accuracy: 0.2500\n",
            "Epoch 2/10\n",
            "72/72 [==============================] - 32s 448ms/step - loss: 1.1882 - accuracy: 0.8351 - val_loss: 25.7869 - val_accuracy: 0.2500\n",
            "Epoch 3/10\n",
            "72/72 [==============================] - 32s 436ms/step - loss: 1.0748 - accuracy: 0.8507 - val_loss: 3.6578 - val_accuracy: 0.5469\n",
            "Epoch 4/10\n",
            "72/72 [==============================] - 32s 436ms/step - loss: 0.9610 - accuracy: 0.8663 - val_loss: 5.8900 - val_accuracy: 0.5156\n",
            "Epoch 5/10\n",
            "72/72 [==============================] - 32s 443ms/step - loss: 0.8866 - accuracy: 0.8672 - val_loss: 7.5473 - val_accuracy: 0.4167\n",
            "Epoch 6/10\n",
            "72/72 [==============================] - 32s 437ms/step - loss: 0.8371 - accuracy: 0.8694 - val_loss: 3.6629 - val_accuracy: 0.6250\n",
            "Epoch 7/10\n",
            "72/72 [==============================] - 31s 435ms/step - loss: 0.7543 - accuracy: 0.8854 - val_loss: 1.4736 - val_accuracy: 0.7396\n",
            "Epoch 8/10\n",
            "72/72 [==============================] - 32s 447ms/step - loss: 0.6873 - accuracy: 0.8928 - val_loss: 1.0706 - val_accuracy: 0.7812\n",
            "Epoch 9/10\n",
            "72/72 [==============================] - 32s 436ms/step - loss: 0.6735 - accuracy: 0.8880 - val_loss: 3.9504 - val_accuracy: 0.4635\n",
            "Epoch 10/10\n",
            "72/72 [==============================] - 33s 461ms/step - loss: 0.6138 - accuracy: 0.8932 - val_loss: 0.9038 - val_accuracy: 0.8125\n"
          ]
        }
      ],
      "source": [
        "from tensorflow.keras.layers import Input, Conv2D, BatchNormalization, Activation, MaxPooling2D, GlobalAveragePooling2D, ZeroPadding2D, Dense\n",
        "from tensorflow.keras.models import Model\n",
        "from tensorflow.keras import regularizers\n",
        "\n",
        "def resnet34_layer(inputs,\n",
        "                 num_filters=64,\n",
        "                 kernel_size=3,\n",
        "                 strides=1,\n",
        "                 activation='relu',\n",
        "                 batch_normalization=True,\n",
        "                 conv_first=True):\n",
        "    \"\"\"2D Convolution-Batch Normalization-Activation stack builder\n",
        "    # Arguments\n",
        "        inputs (tensor): input tensor from input image or previous layer\n",
        "        num_filters (int): Conv2D number of filters\n",
        "        kernel_size (int): Conv2D square kernel dimensions\n",
        "        strides (int): Conv2D square stride dimensions\n",
        "        activation (string): activation name\n",
        "        batch_normalization (bool): whether to include batch normalization\n",
        "        conv_first (bool): conv-bn-activation (True) or\n",
        "            bn-activation-conv (False)\n",
        "    # Returns\n",
        "        x (tensor): tensor as input to the next layer\n",
        "    \"\"\"\n",
        "    conv = Conv2D(num_filters,\n",
        "                  kernel_size=kernel_size,\n",
        "                  strides=strides,\n",
        "                  padding='same',\n",
        "                  kernel_initializer='he_normal',\n",
        "                  kernel_regularizer=regularizers.l2(1e-4))\n",
        "\n",
        "    x = inputs\n",
        "    if conv_first:\n",
        "        x = conv(x)\n",
        "        if batch_normalization:\n",
        "            x = BatchNormalization()(x)\n",
        "        if activation is not None:\n",
        "            x = Activation(activation)(x)\n",
        "    else:\n",
        "        if batch_normalization:\n",
        "            x = BatchNormalization()(x)\n",
        "        if activation is not None:\n",
        "            x = Activation(activation)(x)\n",
        "        x = conv(x)\n",
        "    return x\n",
        "\n",
        "def resnet34(input_shape, num_classes=10):\n",
        "    \"\"\"ResNet34 model builder\n",
        "    \"\"\"\n",
        "    inputs = Input(shape=input_shape)\n",
        "    x = ZeroPadding2D(padding=(3, 3))(inputs)\n",
        "\n",
        "    # stage 1\n",
        "    x = Conv2D(64, kernel_size=7, strides=2, padding='valid', kernel_initializer='he_normal', name='conv1')(x)\n",
        "    x = BatchNormalization()(x)\n",
        "    x = Activation('relu')(x)\n",
        "    x = MaxPooling2D(pool_size=(3, 3), strides=2, padding='same')(x)\n",
        "\n",
        "    # stage 2\n",
        "    x = resnet34_layer(inputs=x, num_filters=64)\n",
        "    x = resnet34_layer(inputs=x, num_filters=64)\n",
        "    x = resnet34_layer(inputs=x, num_filters=64)\n",
        "\n",
        "    # stage 3\n",
        "    x = resnet34_layer(inputs=x, num_filters=128, strides=2)\n",
        "    x = resnet34_layer(inputs=x, num_filters=128)\n",
        "    x = resnet34_layer(inputs=x, num_filters=128)\n",
        "    x = resnet34_layer(inputs=x, num_filters=128)\n",
        "\n",
        "    # stage 4\n",
        "    x = resnet34_layer(inputs=x, num_filters=256, strides=2)\n",
        "    x = resnet34_layer(inputs=x, num_filters=256)\n",
        "    x = resnet34_layer(inputs=x, num_filters=256)\n",
        "    x = resnet34_layer(inputs=x, num_filters=256)\n",
        "    x = resnet34_layer(inputs=x, num_filters=256)\n",
        "    x = resnet34_layer(inputs=x, num_filters=256)\n",
        "\n",
        "    # stage 5\n",
        "    x = resnet34_layer(inputs=x, num_filters=512, strides=2)\n",
        "    x = resnet34_layer(inputs=x, num_filters=512)\n",
        "    x = resnet34_layer(inputs=x, num_filters=512)\n",
        "\n",
        "    # output\n",
        "    x = GlobalAveragePooling2D()(x)\n",
        "    outputs = Dense(num_classes, activation='softmax', kernel_initializer='he_normal')(x)\n",
        "\n",
        "    # Instantiate model.\n",
        "    model = Model(inputs=inputs, outputs=outputs)\n",
        "    return model\n",
        "\n",
        "# Instantiate the ResNet model\n",
        "model = resnet34(input_shape=(512, 512, 1), num_classes=4)\n",
        "\n",
        "# Compile the model\n",
        "model.compile(loss='categorical_crossentropy',\n",
        "optimizer='adam',\n",
        "metrics=['accuracy'])\n",
        "\n",
        "# Fit the model using the generator\n",
        "history = model.fit_generator(train_generator,\n",
        "validation_data=validation_generator,\n",
        "steps_per_epoch=train_generator.samples // 32,\n",
        "validation_steps=validation_generator.samples // 32,\n",
        "epochs=10)\n",
        "\n"
      ]
    },
    {
      "cell_type": "code",
      "execution_count": 8,
      "metadata": {
        "colab": {
          "base_uri": "https://localhost:8080/",
          "height": 573
        },
        "id": "176F8Ri4BqeW",
        "outputId": "1646884c-f4b8-4bfe-d7de-7ef0e3b88d25"
      },
      "outputs": [
        {
          "output_type": "display_data",
          "data": {
            "text/plain": [
              "<Figure size 432x288 with 1 Axes>"
            ],
            "image/png": "[encoded data removed]"
          },
          "metadata": {
            "needs_background": "light"
          }
        },
        {
          "output_type": "display_data",
          "data": {
            "text/plain": [
              "<Figure size 432x288 with 1 Axes>"
            ],
            "image/png": "[encoded data removed]"
          },
          "metadata": {
            "needs_background": "light"
          }
        }
      ],
      "source": [
        "import matplotlib.pyplot as plt\n",
        "\n",
        "# Plot training & validation accuracy values\n",
        "plt.plot(history.history['accuracy'])\n",
        "plt.plot(history.history['val_accuracy'])\n",
        "plt.title('Model accuracy')\n",
        "plt.ylabel('Accuracy')\n",
        "plt.xlabel('Epoch')\n",
        "plt.legend(['Train', 'Validation'], loc='upper left')\n",
        "plt.show()\n",
        "\n",
        "# Plot training & validation loss values\n",
        "plt.plot(history.history['loss'])\n",
        "plt.plot(history.history['val_loss'])\n",
        "plt.title('Model loss')\n",
        "plt.ylabel('Loss')\n",
        "plt.xlabel('Epoch')\n",
        "plt.legend(['Train', 'Validation'], loc='upper left')\n",
        "plt.show()\n"
      ]
    },
    {
      "cell_type": "code",
      "source": [],
      "metadata": {
        "id": "G-RWIMw5vTXQ"
      },
      "execution_count": null,
      "outputs": []
    }
  ],
  "metadata": {
    "accelerator": "GPU",
    "colab": {
      "provenance": [],
      "mount_file_id": "1oLmclaQv0f14Xoz0Aq9ciw2puhZsTPmm",
      "authorship_tag": "ABX9TyMCKPNYIe/7qUK9vXCJoIbA",
      "include_colab_link": true
    },
    "gpuClass": "standard",
    "kernelspec": {
      "display_name": "Python 3",
      "name": "python3"
    },
    "language_info": {
      "name": "python"
    }
  },
  "nbformat": 4,
  "nbformat_minor": 0
}