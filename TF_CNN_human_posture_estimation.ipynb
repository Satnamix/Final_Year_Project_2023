{
  "cells": [
    {
      "cell_type": "markdown",
      "metadata": {
        "id": "view-in-github",
        "colab_type": "text"
      },
      "source": [
        "<a href=\"https://colab.research.google.com/github/Nkashyap-anand/human-posture-estimation/blob/main/TF_CNN_human_posture_estimation.ipynb\" target=\"_parent\"><img src=\"https://colab.research.google.com/assets/colab-badge.svg\" alt=\"Open In Colab\"/></a>"
      ]
    },
    {
      "cell_type": "code",
      "execution_count": 2,
      "metadata": {
        "id": "cd0284b2"
      },
      "outputs": [],
      "source": [
        "from tensorflow.keras.preprocessing.image import ImageDataGenerator\n",
        "from tensorflow.keras.preprocessing import image\n",
        "from tensorflow.keras.optimizers import RMSprop\n",
        "import tensorflow as tf\n",
        "import numpy as np\n",
        "from time import sleep as s\n",
        "import cv2\n",
        "import os\n",
        "import pandas as pd\n",
        "import random as rm"
      ],
      "id": "cd0284b2"
    },
    {
      "cell_type": "code",
      "execution_count": 3,
      "metadata": {
        "id": "9a33e609"
      },
      "outputs": [],
      "source": [
        "train = ImageDataGenerator(rescale=1/255)\n",
        "validation = ImageDataGenerator(rescale=1/255)"
      ],
      "id": "9a33e609"
    },
    {
      "cell_type": "code",
      "execution_count": 6,
      "metadata": {
        "colab": {
          "base_uri": "https://localhost:8080/"
        },
        "id": "65eaaaad",
        "outputId": "c0589c61-8a0d-4d74-8027-b66a306b486a"
      },
      "outputs": [
        {
          "output_type": "stream",
          "name": "stdout",
          "text": [
            "Found 2880 images belonging to 4 classes.\n",
            "Found 960 images belonging to 4 classes.\n",
            "Found 960 images belonging to 4 classes.\n"
          ]
        }
      ],
      "source": [
        "train_dataset = train.flow_from_directory( \"/content/drive/MyDrive/posture/training\",\n",
        "                                          target_size= (512,512),\n",
        "                                          batch_size= 4,\n",
        "                                          class_mode=\"categorical\")\n",
        "validation_dataset = train.flow_from_directory( \"/content/drive/MyDrive/posture/validation\",\n",
        "                                          target_size= (512,512),\n",
        "                                          batch_size= 4,\n",
        "                                          class_mode=\"categorical\")\n",
        "test_dataset = train.flow_from_directory(\"/content/drive/MyDrive/posture/testing\",\n",
        "                                    target_size= (512,512),\n",
        "                                    batch_size= 4,\n",
        "                                    class_mode=\"categorical\")"
      ],
      "id": "65eaaaad"
    },
    {
      "cell_type": "code",
      "execution_count": 5,
      "metadata": {
        "colab": {
          "base_uri": "https://localhost:8080/"
        },
        "id": "fZEMC3jNrLQr",
        "outputId": "706b3485-a308-4c87-ad42-16f169f3c720"
      },
      "outputs": [
        {
          "output_type": "stream",
          "name": "stdout",
          "text": [
            "Mounted at /content/drive\n"
          ]
        }
      ],
      "source": [
        "from google.colab import drive\n",
        "drive.mount('/content/drive')"
      ],
      "id": "fZEMC3jNrLQr"
    },
    {
      "cell_type": "code",
      "execution_count": 8,
      "metadata": {
        "id": "7fc2b83a"
      },
      "outputs": [],
      "source": [
        "model = tf.keras.models.Sequential([\n",
        "tf.keras.layers.Conv2D(16,(3,3),activation =\"relu\", input_shape =(512,512,3)),\n",
        "tf.keras.layers.MaxPool2D(2,2),\n",
        "tf.keras.layers.Conv2D(32,(3,3),activation =\"relu\"),\n",
        "tf.keras.layers.MaxPool2D(2,2),\n",
        "tf.keras.layers.Conv2D(64,(3,3),activation =\"relu\"),\n",
        "tf.keras.layers.MaxPool2D(2,2),\n",
        "# tf.keras.layers.Conv2D(128,(3,3),activation =\"relu\"),\n",
        "# tf.keras.layers.MaxPool2D(2,2),\n",
        "# tf.keras.layers.Conv2D(256,(3,3),activation =\"relu\"),\n",
        "# tf.keras.layers.MaxPool2D(2,2),\n",
        "tf.keras.layers.Flatten(),\n",
        "tf.keras.layers.Dense(64, activation = \"relu\"),\n",
        "tf.keras.layers.Dense(4,activation =\"softmax\")])"
      ],
      "id": "7fc2b83a"
    },
    {
      "cell_type": "code",
      "execution_count": 9,
      "metadata": {
        "colab": {
          "base_uri": "https://localhost:8080/"
        },
        "id": "a1aa7f10",
        "outputId": "5df08d44-3ea8-45df-eb8c-15f7a4287d7f",
        "scrolled": false
      },
      "outputs": [
        {
          "output_type": "stream",
          "name": "stdout",
          "text": [
            "Model: \"sequential_1\"\n",
            "_________________________________________________________________\n",
            " Layer (type)                Output Shape              Param #   \n",
            "=================================================================\n",
            " conv2d_3 (Conv2D)           (None, 510, 510, 16)      448       \n",
            "                                                                 \n",
            " max_pooling2d_3 (MaxPooling  (None, 255, 255, 16)     0         \n",
            " 2D)                                                             \n",
            "                                                                 \n",
            " conv2d_4 (Conv2D)           (None, 253, 253, 32)      4640      \n",
            "                                                                 \n",
            " max_pooling2d_4 (MaxPooling  (None, 126, 126, 32)     0         \n",
            " 2D)                                                             \n",
            "                                                                 \n",
            " conv2d_5 (Conv2D)           (None, 124, 124, 64)      18496     \n",
            "                                                                 \n",
            " max_pooling2d_5 (MaxPooling  (None, 62, 62, 64)       0         \n",
            " 2D)                                                             \n",
            "                                                                 \n",
            " flatten_1 (Flatten)         (None, 246016)            0         \n",
            "                                                                 \n",
            " dense_2 (Dense)             (None, 64)                15745088  \n",
            "                                                                 \n",
            " dense_3 (Dense)             (None, 4)                 260       \n",
            "                                                                 \n",
            "=================================================================\n",
            "Total params: 15,768,932\n",
            "Trainable params: 15,768,932\n",
            "Non-trainable params: 0\n",
            "_________________________________________________________________\n"
          ]
        }
      ],
      "source": [
        "model.summary()"
      ],
      "id": "a1aa7f10"
    },
    {
      "cell_type": "code",
      "execution_count": 10,
      "metadata": {
        "id": "1b3261bb"
      },
      "outputs": [],
      "source": [
        "model.compile(loss=\"categorical_crossentropy\" , optimizer=\"adam\" ,metrics =[\"accuracy\"])"
      ],
      "id": "1b3261bb"
    },
    {
      "cell_type": "code",
      "execution_count": 12,
      "metadata": {
        "colab": {
          "base_uri": "https://localhost:8080/"
        },
        "id": "ff88bdba",
        "scrolled": true,
        "outputId": "8d40ce4f-ba92-4fc4-dadb-963162ef5b0f"
      },
      "outputs": [
        {
          "output_type": "stream",
          "name": "stdout",
          "text": [
            "Epoch 1/50\n",
            "32/32 [==============================] - 126s 4s/step - loss: 0.9155 - accuracy: 0.6719 - val_loss: 0.9958 - val_accuracy: 0.6250\n",
            "Epoch 2/50\n",
            "32/32 [==============================] - 73s 2s/step - loss: 0.8370 - accuracy: 0.6641 - val_loss: 0.7861 - val_accuracy: 0.7146\n",
            "Epoch 3/50\n",
            "32/32 [==============================] - 93s 3s/step - loss: 0.6296 - accuracy: 0.7344 - val_loss: 0.7053 - val_accuracy: 0.7646\n",
            "Epoch 4/50\n",
            "32/32 [==============================] - 73s 2s/step - loss: 0.5527 - accuracy: 0.8203 - val_loss: 0.6939 - val_accuracy: 0.7594\n",
            "Epoch 5/50\n",
            "32/32 [==============================] - 82s 3s/step - loss: 0.5571 - accuracy: 0.7891 - val_loss: 0.6465 - val_accuracy: 0.7667\n",
            "Epoch 6/50\n",
            "32/32 [==============================] - 69s 2s/step - loss: 0.5996 - accuracy: 0.8203 - val_loss: 0.6477 - val_accuracy: 0.7583\n",
            "Epoch 7/50\n",
            "32/32 [==============================] - 63s 2s/step - loss: 0.4920 - accuracy: 0.8438 - val_loss: 0.6415 - val_accuracy: 0.7594\n",
            "Epoch 8/50\n",
            "32/32 [==============================] - 56s 2s/step - loss: 0.4878 - accuracy: 0.8125 - val_loss: 0.6087 - val_accuracy: 0.7760\n",
            "Epoch 9/50\n",
            "32/32 [==============================] - 65s 2s/step - loss: 0.3877 - accuracy: 0.8672 - val_loss: 0.6405 - val_accuracy: 0.7698\n",
            "Epoch 10/50\n",
            "32/32 [==============================] - 61s 2s/step - loss: 0.4547 - accuracy: 0.8125 - val_loss: 0.5627 - val_accuracy: 0.7823\n",
            "Epoch 11/50\n",
            "32/32 [==============================] - 65s 2s/step - loss: 0.4411 - accuracy: 0.8516 - val_loss: 0.5417 - val_accuracy: 0.7917\n",
            "Epoch 12/50\n",
            "32/32 [==============================] - 53s 2s/step - loss: 0.4738 - accuracy: 0.8359 - val_loss: 0.5808 - val_accuracy: 0.7792\n",
            "Epoch 13/50\n",
            "32/32 [==============================] - 57s 2s/step - loss: 0.2346 - accuracy: 0.9531 - val_loss: 0.6307 - val_accuracy: 0.7865\n",
            "Epoch 14/50\n",
            "32/32 [==============================] - 44s 1s/step - loss: 0.3687 - accuracy: 0.8906 - val_loss: 0.5569 - val_accuracy: 0.7979\n",
            "Epoch 15/50\n",
            "32/32 [==============================] - 48s 1s/step - loss: 0.4211 - accuracy: 0.9141 - val_loss: 0.5364 - val_accuracy: 0.7917\n",
            "Epoch 16/50\n",
            "32/32 [==============================] - 53s 2s/step - loss: 0.2989 - accuracy: 0.9141 - val_loss: 0.5241 - val_accuracy: 0.8042\n",
            "Epoch 17/50\n",
            "32/32 [==============================] - 49s 2s/step - loss: 0.2514 - accuracy: 0.9375 - val_loss: 0.5882 - val_accuracy: 0.7760\n",
            "Epoch 18/50\n",
            "32/32 [==============================] - 40s 1s/step - loss: 0.3692 - accuracy: 0.8594 - val_loss: 0.5427 - val_accuracy: 0.8073\n",
            "Epoch 19/50\n",
            "32/32 [==============================] - 43s 1s/step - loss: 0.3761 - accuracy: 0.8750 - val_loss: 0.5236 - val_accuracy: 0.8094\n",
            "Epoch 20/50\n",
            "32/32 [==============================] - 51s 2s/step - loss: 0.3772 - accuracy: 0.8750 - val_loss: 0.5063 - val_accuracy: 0.8271\n",
            "Epoch 21/50\n",
            "32/32 [==============================] - 36s 1s/step - loss: 0.2682 - accuracy: 0.9141 - val_loss: 0.5183 - val_accuracy: 0.8302\n",
            "Epoch 22/50\n",
            "32/32 [==============================] - 54s 2s/step - loss: 0.2581 - accuracy: 0.9141 - val_loss: 0.5465 - val_accuracy: 0.8073\n",
            "Epoch 23/50\n",
            "32/32 [==============================] - 32s 1s/step - loss: 0.1538 - accuracy: 0.9453 - val_loss: 0.6113 - val_accuracy: 0.8083\n",
            "Epoch 24/50\n",
            "32/32 [==============================] - 43s 1s/step - loss: 0.2540 - accuracy: 0.9375 - val_loss: 0.5267 - val_accuracy: 0.8167\n",
            "Epoch 25/50\n",
            "32/32 [==============================] - 32s 1s/step - loss: 0.3397 - accuracy: 0.8906 - val_loss: 0.4535 - val_accuracy: 0.8344\n",
            "Epoch 26/50\n",
            "32/32 [==============================] - 29s 927ms/step - loss: 0.1751 - accuracy: 0.9375 - val_loss: 0.4759 - val_accuracy: 0.8448\n",
            "Epoch 27/50\n",
            "32/32 [==============================] - 31s 972ms/step - loss: 0.1008 - accuracy: 0.9766 - val_loss: 0.5738 - val_accuracy: 0.8333\n",
            "Epoch 28/50\n",
            "32/32 [==============================] - 30s 925ms/step - loss: 0.3516 - accuracy: 0.8828 - val_loss: 0.5635 - val_accuracy: 0.8104\n",
            "Epoch 29/50\n",
            "32/32 [==============================] - 29s 930ms/step - loss: 0.2494 - accuracy: 0.9141 - val_loss: 0.4931 - val_accuracy: 0.8344\n",
            "Epoch 30/50\n",
            "32/32 [==============================] - 26s 831ms/step - loss: 0.1952 - accuracy: 0.9375 - val_loss: 0.5416 - val_accuracy: 0.8333\n",
            "Epoch 31/50\n",
            "32/32 [==============================] - 25s 774ms/step - loss: 0.2151 - accuracy: 0.9453 - val_loss: 0.4749 - val_accuracy: 0.8417\n",
            "Epoch 32/50\n",
            "32/32 [==============================] - 25s 801ms/step - loss: 0.0989 - accuracy: 0.9766 - val_loss: 0.5685 - val_accuracy: 0.8333\n",
            "Epoch 33/50\n",
            "32/32 [==============================] - 18s 583ms/step - loss: 0.2611 - accuracy: 0.9375 - val_loss: 0.4897 - val_accuracy: 0.8375\n",
            "Epoch 34/50\n",
            "32/32 [==============================] - 23s 713ms/step - loss: 0.2509 - accuracy: 0.9609 - val_loss: 0.4736 - val_accuracy: 0.8438\n",
            "Epoch 35/50\n",
            "32/32 [==============================] - 22s 715ms/step - loss: 0.0554 - accuracy: 0.9688 - val_loss: 0.5382 - val_accuracy: 0.8448\n",
            "Epoch 36/50\n",
            "32/32 [==============================] - 20s 607ms/step - loss: 0.1789 - accuracy: 0.9531 - val_loss: 0.5204 - val_accuracy: 0.8385\n",
            "Epoch 37/50\n",
            "32/32 [==============================] - 19s 624ms/step - loss: 0.1030 - accuracy: 0.9688 - val_loss: 0.5507 - val_accuracy: 0.8344\n",
            "Epoch 38/50\n",
            "32/32 [==============================] - 18s 536ms/step - loss: 0.0712 - accuracy: 0.9844 - val_loss: 0.5682 - val_accuracy: 0.8375\n",
            "Epoch 39/50\n",
            "32/32 [==============================] - 22s 692ms/step - loss: 0.0771 - accuracy: 0.9688 - val_loss: 0.6308 - val_accuracy: 0.8208\n",
            "Epoch 40/50\n",
            "32/32 [==============================] - 17s 550ms/step - loss: 0.0981 - accuracy: 0.9688 - val_loss: 0.5808 - val_accuracy: 0.8385\n",
            "Epoch 41/50\n",
            "32/32 [==============================] - 23s 725ms/step - loss: 0.1587 - accuracy: 0.9531 - val_loss: 0.5293 - val_accuracy: 0.8427\n",
            "Epoch 42/50\n",
            "32/32 [==============================] - 29s 907ms/step - loss: 0.1028 - accuracy: 0.9844 - val_loss: 0.5408 - val_accuracy: 0.8354\n",
            "Epoch 43/50\n",
            "32/32 [==============================] - 22s 681ms/step - loss: 0.1218 - accuracy: 0.9609 - val_loss: 0.6039 - val_accuracy: 0.8292\n",
            "Epoch 44/50\n",
            "32/32 [==============================] - 14s 448ms/step - loss: 0.0588 - accuracy: 0.9688 - val_loss: 0.5519 - val_accuracy: 0.8406\n",
            "Epoch 45/50\n",
            "32/32 [==============================] - 14s 445ms/step - loss: 0.0874 - accuracy: 0.9766 - val_loss: 0.5702 - val_accuracy: 0.8354\n",
            "Epoch 46/50\n",
            "32/32 [==============================] - 17s 540ms/step - loss: 0.1944 - accuracy: 0.9531 - val_loss: 0.5488 - val_accuracy: 0.8292\n",
            "Epoch 47/50\n",
            "32/32 [==============================] - 15s 476ms/step - loss: 0.1214 - accuracy: 0.9766 - val_loss: 0.5081 - val_accuracy: 0.8385\n",
            "Epoch 48/50\n",
            "32/32 [==============================] - 20s 652ms/step - loss: 0.1271 - accuracy: 0.9688 - val_loss: 0.5854 - val_accuracy: 0.8323\n",
            "Epoch 49/50\n",
            "32/32 [==============================] - 21s 669ms/step - loss: 0.1031 - accuracy: 0.9688 - val_loss: 0.5900 - val_accuracy: 0.8344\n",
            "Epoch 50/50\n",
            "32/32 [==============================] - 18s 583ms/step - loss: 0.0817 - accuracy: 0.9844 - val_loss: 0.5916 - val_accuracy: 0.8438\n"
          ]
        }
      ],
      "source": [
        "model_fit = model.fit(train_dataset,\n",
        "                     steps_per_epoch= 32,\n",
        "                     epochs= 50,\n",
        "                     validation_data= validation_dataset)"
      ],
      "id": "ff88bdba"
    },
    {
      "cell_type": "code",
      "execution_count": 13,
      "metadata": {
        "id": "b1275c3a",
        "colab": {
          "base_uri": "https://localhost:8080/"
        },
        "outputId": "8710f67e-f770-4894-9c19-b0ea75788f76"
      },
      "outputs": [
        {
          "output_type": "execute_result",
          "data": {
            "text/plain": [
              "array([[5.5827990e-02, 8.6333640e-03, 1.5560582e-02, 9.1997802e-01],\n",
              "       [9.6022449e-02, 1.2734737e-02, 6.6002405e-01, 2.3121874e-01],\n",
              "       [9.5337446e-06, 9.9568617e-01, 4.3042153e-03, 1.2698095e-07],\n",
              "       ...,\n",
              "       [1.6459699e-05, 9.9935967e-01, 5.3806574e-04, 8.5811691e-05],\n",
              "       [1.2115076e-04, 6.7729761e-06, 8.8742323e-04, 9.9898463e-01],\n",
              "       [2.2597557e-04, 7.0906740e-01, 2.9032350e-01, 3.8313033e-04]],\n",
              "      dtype=float32)"
            ]
          },
          "metadata": {},
          "execution_count": 13
        }
      ],
      "source": [
        "test_predictions = model.predict(test_dataset)\n",
        "test_predictions"
      ],
      "id": "b1275c3a"
    },
    {
      "cell_type": "code",
      "execution_count": 17,
      "metadata": {
        "id": "YSrYyCiTO7L7",
        "colab": {
          "base_uri": "https://localhost:8080/",
          "height": 279
        },
        "outputId": "2093ffac-0ff5-4582-f396-bce25e093eb7"
      },
      "outputs": [
        {
          "output_type": "display_data",
          "data": {
            "text/plain": [
              "<Figure size 432x288 with 1 Axes>"
            ],
            "image/png": "[encoded data removed]"
          },
          "metadata": {
            "needs_background": "light"
          }
        }
      ],
      "source": [
        "import matplotlib.pyplot as plt\n",
        "# Get training and test loss histories\n",
        "training_loss = model_fit.history['loss']\n",
        "test_loss = model_fit.history['val_loss']\n",
        "\n",
        "# Create count of the number of epochs\n",
        "epoch_count = range(1, len(training_loss) + 1)\n",
        "\n",
        "# Visualize loss history\n",
        "plt.plot(epoch_count, training_loss, 'r--')\n",
        "plt.plot(epoch_count, test_loss, 'b-')\n",
        "plt.legend(['Training Loss', 'Test Loss'])\n",
        "plt.xlabel('Epoch')\n",
        "plt.ylabel('Loss')\n",
        "plt.show();"
      ],
      "id": "YSrYyCiTO7L7"
    },
    {
      "cell_type": "code",
      "source": [
        "loss = model_fit.history['loss']\n",
        "accuracy = model_fit.history['accuracy']\n",
        "\n",
        "# Create count of the number of epochs\n",
        "epoch_count = range(1, len(accuracy) + 1)\n",
        "\n",
        "# Visualize loss history\n",
        "plt.plot(epoch_count, loss, 'r--')\n",
        "plt.plot(epoch_count, accuracy, 'b-')\n",
        "plt.legend(['loss', 'accuracy'])\n",
        "plt.xlabel('Epoch')\n",
        "plt.ylabel('Accuracy')\n",
        "plt.show();"
      ],
      "metadata": {
        "id": "_MKR_lk9j0yR",
        "colab": {
          "base_uri": "https://localhost:8080/",
          "height": 279
        },
        "outputId": "40fcf903-e032-4d5e-ed70-14dd07b1d91d"
      },
      "id": "_MKR_lk9j0yR",
      "execution_count": 16,
      "outputs": [
        {
          "output_type": "display_data",
          "data": {
            "text/plain": [
              "<Figure size 432x288 with 1 Axes>"
            ],
            "image/png": "[encoded data removed]"
          },
          "metadata": {
            "needs_background": "light"
          }
        }
      ]
    }
  ],
  "metadata": {
    "accelerator": "GPU",
    "colab": {
      "collapsed_sections": [],
      "provenance": [],
      "include_colab_link": true
    },
    "kernelspec": {
      "display_name": "gputest",
      "language": "python",
      "name": "gputest"
    },
    "language_info": {
      "codemirror_mode": {
        "name": "ipython",
        "version": 3
      },
      "file_extension": ".py",
      "mimetype": "text/x-python",
      "name": "python",
      "nbconvert_exporter": "python",
      "pygments_lexer": "ipython3",
      "version": "3.9.12"
    }
  },
  "nbformat": 4,
  "nbformat_minor": 5
}