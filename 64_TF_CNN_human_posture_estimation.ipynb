{
  "cells": [
    {
      "cell_type": "markdown",
      "metadata": {
        "id": "view-in-github",
        "colab_type": "text"
      },
      "source": [
        "<a href=\"https://colab.research.google.com/github/Nkashyap-anand/human-posture-estimation/blob/main/64_TF_CNN_human_posture_estimation.ipynb\" target=\"_parent\"><img src=\"https://colab.research.google.com/assets/colab-badge.svg\" alt=\"Open In Colab\"/></a>"
      ]
    },
    {
      "cell_type": "code",
      "execution_count": null,
      "metadata": {
        "colab": {
          "base_uri": "https://localhost:8080/"
        },
        "id": "fZEMC3jNrLQr",
        "outputId": "0c7fda6a-6bac-4069-d980-a1ca24756f86"
      },
      "outputs": [
        {
          "output_type": "stream",
          "name": "stdout",
          "text": [
            "Mounted at /content/drive\n"
          ]
        }
      ],
      "source": [
        "from google.colab import drive\n",
        "drive.mount('/content/drive')"
      ],
      "id": "fZEMC3jNrLQr"
    },
    {
      "cell_type": "code",
      "execution_count": null,
      "metadata": {
        "id": "cd0284b2"
      },
      "outputs": [],
      "source": [
        "from tensorflow.keras.preprocessing.image import ImageDataGenerator\n",
        "from tensorflow.keras.preprocessing import image\n",
        "from tensorflow.keras.optimizers import RMSprop\n",
        "import tensorflow as tf\n",
        "import numpy as np\n",
        "from time import sleep as s\n",
        "import cv2\n",
        "import os\n",
        "import pandas as pd\n",
        "import random as rm"
      ],
      "id": "cd0284b2"
    },
    {
      "cell_type": "code",
      "execution_count": null,
      "metadata": {
        "id": "9a33e609"
      },
      "outputs": [],
      "source": [
        "train = ImageDataGenerator(rescale=1/255)\n",
        "validation = ImageDataGenerator(rescale=1/255)"
      ],
      "id": "9a33e609"
    },
    {
      "cell_type": "code",
      "execution_count": null,
      "metadata": {
        "colab": {
          "base_uri": "https://localhost:8080/"
        },
        "id": "65eaaaad",
        "outputId": "87c3517c-eedb-486d-a871-22c95e1f9940"
      },
      "outputs": [
        {
          "output_type": "stream",
          "name": "stdout",
          "text": [
            "Found 2880 images belonging to 4 classes.\n",
            "Found 960 images belonging to 4 classes.\n",
            "Found 960 images belonging to 4 classes.\n"
          ]
        }
      ],
      "source": [
        "train_dataset = train.flow_from_directory( \"/content/drive/MyDrive/posture/training\",\n",
        "                                          target_size= (512,512),\n",
        "                                          batch_size= 4,\n",
        "                                          class_mode=\"categorical\")\n",
        "validation_dataset = train.flow_from_directory( \"/content/drive/MyDrive/posture/validation\",\n",
        "                                          target_size= (512,512),\n",
        "                                          batch_size= 4,\n",
        "                                          class_mode=\"categorical\")\n",
        "test_dataset = train.flow_from_directory(\"/content/drive/MyDrive/posture/testing\",\n",
        "                                    target_size= (512,512),\n",
        "                                    batch_size= 4,\n",
        "                                    class_mode=\"categorical\")"
      ],
      "id": "65eaaaad"
    },
    {
      "cell_type": "code",
      "execution_count": null,
      "metadata": {
        "id": "7fc2b83a"
      },
      "outputs": [],
      "source": [
        "model = tf.keras.models.Sequential([\n",
        "tf.keras.layers.Conv2D(64,(3,3),activation =\"relu\", input_shape =(512,512,3)),\n",
        "tf.keras.layers.MaxPool2D(2,2),\n",
        "tf.keras.layers.Conv2D(64,(3,3),activation =\"relu\"),\n",
        "tf.keras.layers.MaxPool2D(2,2),\n",
        "tf.keras.layers.Conv2D(64,(3,3),activation =\"relu\"),\n",
        "tf.keras.layers.MaxPool2D(2,2),\n",
        "# tf.keras.layers.Conv2D(128,(3,3),activation =\"relu\"),\n",
        "# tf.keras.layers.MaxPool2D(2,2),\n",
        "# tf.keras.layers.Conv2D(256,(3,3),activation =\"relu\"),\n",
        "# tf.keras.layers.MaxPool2D(2,2),\n",
        "tf.keras.layers.Flatten(),\n",
        "tf.keras.layers.Dense(64, activation = \"relu\"),\n",
        "tf.keras.layers.Dense(4,activation =\"softmax\")])"
      ],
      "id": "7fc2b83a"
    },
    {
      "cell_type": "code",
      "execution_count": null,
      "metadata": {
        "colab": {
          "base_uri": "https://localhost:8080/"
        },
        "id": "a1aa7f10",
        "outputId": "a4da33e6-4b89-4dcf-afac-92d59ec607f0",
        "scrolled": false
      },
      "outputs": [
        {
          "output_type": "stream",
          "name": "stdout",
          "text": [
            "Model: \"sequential\"\n",
            "_________________________________________________________________\n",
            " Layer (type)                Output Shape              Param #   \n",
            "=================================================================\n",
            " conv2d (Conv2D)             (None, 510, 510, 64)      1792      \n",
            "                                                                 \n",
            " max_pooling2d (MaxPooling2D  (None, 255, 255, 64)     0         \n",
            " )                                                               \n",
            "                                                                 \n",
            " conv2d_1 (Conv2D)           (None, 253, 253, 64)      36928     \n",
            "                                                                 \n",
            " max_pooling2d_1 (MaxPooling  (None, 126, 126, 64)     0         \n",
            " 2D)                                                             \n",
            "                                                                 \n",
            " conv2d_2 (Conv2D)           (None, 124, 124, 64)      36928     \n",
            "                                                                 \n",
            " max_pooling2d_2 (MaxPooling  (None, 62, 62, 64)       0         \n",
            " 2D)                                                             \n",
            "                                                                 \n",
            " flatten (Flatten)           (None, 246016)            0         \n",
            "                                                                 \n",
            " dense (Dense)               (None, 64)                15745088  \n",
            "                                                                 \n",
            " dense_1 (Dense)             (None, 4)                 260       \n",
            "                                                                 \n",
            "=================================================================\n",
            "Total params: 15,820,996\n",
            "Trainable params: 15,820,996\n",
            "Non-trainable params: 0\n",
            "_________________________________________________________________\n"
          ]
        }
      ],
      "source": [
        "model.summary()"
      ],
      "id": "a1aa7f10"
    },
    {
      "cell_type": "code",
      "execution_count": null,
      "metadata": {
        "id": "1b3261bb"
      },
      "outputs": [],
      "source": [
        "model.compile(loss=\"categorical_crossentropy\" , optimizer=\"adam\" ,metrics =[\"accuracy\"])"
      ],
      "id": "1b3261bb"
    },
    {
      "cell_type": "code",
      "execution_count": null,
      "metadata": {
        "colab": {
          "base_uri": "https://localhost:8080/"
        },
        "id": "ff88bdba",
        "scrolled": true,
        "outputId": "53c6fc57-1396-4394-ca65-9866828a808d"
      },
      "outputs": [
        {
          "output_type": "stream",
          "name": "stdout",
          "text": [
            "Epoch 1/50\n",
            "32/32 [==============================] - 437s 14s/step - loss: 2.1211 - accuracy: 0.4062 - val_loss: 0.8961 - val_accuracy: 0.6427\n",
            "Epoch 2/50\n",
            "32/32 [==============================] - 46s 1s/step - loss: 0.8841 - accuracy: 0.6719 - val_loss: 0.8818 - val_accuracy: 0.6385\n",
            "Epoch 3/50\n",
            "32/32 [==============================] - 44s 1s/step - loss: 0.8047 - accuracy: 0.6875 - val_loss: 0.7934 - val_accuracy: 0.7031\n",
            "Epoch 4/50\n",
            "32/32 [==============================] - 43s 1s/step - loss: 0.7134 - accuracy: 0.7344 - val_loss: 0.7686 - val_accuracy: 0.7104\n",
            "Epoch 5/50\n",
            "32/32 [==============================] - 46s 1s/step - loss: 0.6745 - accuracy: 0.7578 - val_loss: 0.6559 - val_accuracy: 0.7531\n",
            "Epoch 6/50\n",
            "32/32 [==============================] - 38s 1s/step - loss: 0.6450 - accuracy: 0.7891 - val_loss: 0.6654 - val_accuracy: 0.7458\n",
            "Epoch 7/50\n",
            "32/32 [==============================] - 37s 1s/step - loss: 0.5664 - accuracy: 0.7969 - val_loss: 0.6679 - val_accuracy: 0.7427\n",
            "Epoch 8/50\n",
            "32/32 [==============================] - 36s 1s/step - loss: 0.5621 - accuracy: 0.8125 - val_loss: 0.6047 - val_accuracy: 0.7865\n",
            "Epoch 9/50\n",
            "32/32 [==============================] - 36s 1s/step - loss: 0.4387 - accuracy: 0.8281 - val_loss: 0.6393 - val_accuracy: 0.7531\n",
            "Epoch 10/50\n",
            "32/32 [==============================] - 35s 1s/step - loss: 0.4459 - accuracy: 0.8516 - val_loss: 0.6006 - val_accuracy: 0.7802\n",
            "Epoch 11/50\n",
            "32/32 [==============================] - 33s 1s/step - loss: 0.4170 - accuracy: 0.8906 - val_loss: 0.5952 - val_accuracy: 0.7948\n",
            "Epoch 12/50\n",
            "32/32 [==============================] - 32s 1s/step - loss: 0.6062 - accuracy: 0.8047 - val_loss: 0.5938 - val_accuracy: 0.7917\n",
            "Epoch 13/50\n",
            "32/32 [==============================] - 28s 892ms/step - loss: 0.6087 - accuracy: 0.7969 - val_loss: 0.5642 - val_accuracy: 0.7844\n",
            "Epoch 14/50\n",
            "32/32 [==============================] - 32s 977ms/step - loss: 0.3451 - accuracy: 0.8828 - val_loss: 0.5569 - val_accuracy: 0.8042\n",
            "Epoch 15/50\n",
            "32/32 [==============================] - 33s 1s/step - loss: 0.2603 - accuracy: 0.8984 - val_loss: 0.6365 - val_accuracy: 0.7969\n",
            "Epoch 16/50\n",
            "32/32 [==============================] - 25s 792ms/step - loss: 0.3137 - accuracy: 0.9141 - val_loss: 0.5189 - val_accuracy: 0.8188\n",
            "Epoch 17/50\n",
            "32/32 [==============================] - 26s 836ms/step - loss: 0.3618 - accuracy: 0.8984 - val_loss: 0.5099 - val_accuracy: 0.8104\n",
            "Epoch 18/50\n",
            "32/32 [==============================] - 25s 809ms/step - loss: 0.3361 - accuracy: 0.8984 - val_loss: 0.5210 - val_accuracy: 0.8073\n",
            "Epoch 19/50\n",
            "32/32 [==============================] - 26s 812ms/step - loss: 0.2683 - accuracy: 0.9062 - val_loss: 0.5577 - val_accuracy: 0.8167\n",
            "Epoch 20/50\n",
            "32/32 [==============================] - 24s 751ms/step - loss: 0.2936 - accuracy: 0.9062 - val_loss: 0.4965 - val_accuracy: 0.8135\n",
            "Epoch 21/50\n",
            "32/32 [==============================] - 25s 789ms/step - loss: 0.1555 - accuracy: 0.9453 - val_loss: 0.5509 - val_accuracy: 0.8281\n",
            "Epoch 22/50\n",
            "32/32 [==============================] - 22s 704ms/step - loss: 0.3047 - accuracy: 0.8984 - val_loss: 0.5341 - val_accuracy: 0.8177\n",
            "Epoch 23/50\n",
            "32/32 [==============================] - 19s 603ms/step - loss: 0.2958 - accuracy: 0.8984 - val_loss: 0.5161 - val_accuracy: 0.8198\n",
            "Epoch 24/50\n",
            "32/32 [==============================] - 24s 780ms/step - loss: 0.2454 - accuracy: 0.9375 - val_loss: 0.5133 - val_accuracy: 0.8167\n",
            "Epoch 25/50\n",
            "32/32 [==============================] - 19s 593ms/step - loss: 0.1068 - accuracy: 0.9688 - val_loss: 0.6434 - val_accuracy: 0.8323\n",
            "Epoch 26/50\n",
            "32/32 [==============================] - 20s 633ms/step - loss: 0.3453 - accuracy: 0.9062 - val_loss: 0.5965 - val_accuracy: 0.8125\n",
            "Epoch 27/50\n",
            "32/32 [==============================] - 20s 635ms/step - loss: 0.1933 - accuracy: 0.9375 - val_loss: 0.5213 - val_accuracy: 0.8260\n",
            "Epoch 28/50\n",
            "32/32 [==============================] - 19s 600ms/step - loss: 0.2408 - accuracy: 0.8984 - val_loss: 0.5567 - val_accuracy: 0.8313\n",
            "Epoch 29/50\n",
            "32/32 [==============================] - 19s 621ms/step - loss: 0.1397 - accuracy: 0.9531 - val_loss: 0.6340 - val_accuracy: 0.8219\n",
            "Epoch 30/50\n",
            "32/32 [==============================] - 20s 654ms/step - loss: 0.1044 - accuracy: 0.9688 - val_loss: 0.5752 - val_accuracy: 0.8365\n",
            "Epoch 31/50\n",
            "32/32 [==============================] - 19s 590ms/step - loss: 0.2289 - accuracy: 0.9219 - val_loss: 0.4999 - val_accuracy: 0.8292\n",
            "Epoch 32/50\n",
            "32/32 [==============================] - 18s 573ms/step - loss: 0.1836 - accuracy: 0.9375 - val_loss: 0.5507 - val_accuracy: 0.8156\n",
            "Epoch 33/50\n",
            "32/32 [==============================] - 18s 580ms/step - loss: 0.2847 - accuracy: 0.9219 - val_loss: 0.5617 - val_accuracy: 0.8156\n",
            "Epoch 34/50\n",
            "32/32 [==============================] - 18s 574ms/step - loss: 0.2445 - accuracy: 0.9219 - val_loss: 0.4793 - val_accuracy: 0.8406\n",
            "Epoch 35/50\n",
            "32/32 [==============================] - 15s 475ms/step - loss: 0.1834 - accuracy: 0.9453 - val_loss: 0.5187 - val_accuracy: 0.8292\n",
            "Epoch 36/50\n",
            "32/32 [==============================] - 14s 436ms/step - loss: 0.1055 - accuracy: 0.9688 - val_loss: 0.6118 - val_accuracy: 0.8021\n",
            "Epoch 37/50\n",
            "32/32 [==============================] - 15s 491ms/step - loss: 0.2999 - accuracy: 0.9141 - val_loss: 0.5185 - val_accuracy: 0.8198\n",
            "Epoch 38/50\n",
            "32/32 [==============================] - 18s 582ms/step - loss: 0.0643 - accuracy: 0.9922 - val_loss: 0.5818 - val_accuracy: 0.8344\n",
            "Epoch 39/50\n",
            "32/32 [==============================] - 16s 523ms/step - loss: 0.1778 - accuracy: 0.9375 - val_loss: 0.6198 - val_accuracy: 0.8271\n",
            "Epoch 40/50\n",
            "32/32 [==============================] - 15s 487ms/step - loss: 0.1774 - accuracy: 0.9453 - val_loss: 0.5473 - val_accuracy: 0.8281\n",
            "Epoch 41/50\n",
            "32/32 [==============================] - 20s 656ms/step - loss: 0.2124 - accuracy: 0.9453 - val_loss: 0.4878 - val_accuracy: 0.8302\n",
            "Epoch 42/50\n",
            "32/32 [==============================] - 13s 415ms/step - loss: 0.0744 - accuracy: 0.9688 - val_loss: 0.5542 - val_accuracy: 0.8188\n",
            "Epoch 43/50\n",
            "32/32 [==============================] - 14s 449ms/step - loss: 0.0516 - accuracy: 0.9922 - val_loss: 0.6152 - val_accuracy: 0.8344\n",
            "Epoch 44/50\n",
            "32/32 [==============================] - 15s 495ms/step - loss: 0.0669 - accuracy: 0.9766 - val_loss: 0.6749 - val_accuracy: 0.8281\n",
            "Epoch 45/50\n",
            "32/32 [==============================] - 16s 511ms/step - loss: 0.0792 - accuracy: 0.9688 - val_loss: 0.6429 - val_accuracy: 0.8240\n",
            "Epoch 46/50\n",
            "32/32 [==============================] - 13s 408ms/step - loss: 0.0527 - accuracy: 0.9844 - val_loss: 0.6860 - val_accuracy: 0.8219\n",
            "Epoch 47/50\n",
            "32/32 [==============================] - 16s 502ms/step - loss: 0.1061 - accuracy: 0.9766 - val_loss: 0.5516 - val_accuracy: 0.8354\n",
            "Epoch 48/50\n",
            "32/32 [==============================] - 14s 453ms/step - loss: 0.0764 - accuracy: 0.9766 - val_loss: 0.5969 - val_accuracy: 0.8344\n",
            "Epoch 49/50\n",
            "32/32 [==============================] - 15s 458ms/step - loss: 0.1703 - accuracy: 0.9531 - val_loss: 0.5675 - val_accuracy: 0.8490\n",
            "Epoch 50/50\n",
            "32/32 [==============================] - 13s 431ms/step - loss: 0.1029 - accuracy: 0.9766 - val_loss: 0.5720 - val_accuracy: 0.8458\n"
          ]
        }
      ],
      "source": [
        "model_fit = model.fit(train_dataset,\n",
        "                     steps_per_epoch= 32,\n",
        "                     epochs= 50,\n",
        "                     validation_data= validation_dataset)"
      ],
      "id": "ff88bdba"
    },
    {
      "cell_type": "code",
      "execution_count": null,
      "metadata": {
        "id": "b1275c3a",
        "colab": {
          "base_uri": "https://localhost:8080/"
        },
        "outputId": "bf9c2720-b0da-4dc0-ae8e-5ad1c53b85e7"
      },
      "outputs": [
        {
          "output_type": "execute_result",
          "data": {
            "text/plain": [
              "array([[3.4859963e-03, 1.4103750e-04, 8.7431663e-01, 1.2205640e-01],\n",
              "       [1.6885265e-04, 9.9975616e-01, 7.2546616e-05, 2.4139993e-06],\n",
              "       [9.9526608e-01, 4.2981548e-05, 3.7718328e-05, 4.6533188e-03],\n",
              "       ...,\n",
              "       [8.6385584e-01, 1.0670192e-02, 2.9563116e-02, 9.5910802e-02],\n",
              "       [9.9216813e-01, 9.3946837e-06, 7.1537849e-03, 6.6877715e-04],\n",
              "       [3.3258082e-04, 1.7822093e-05, 1.1626437e-03, 9.9848688e-01]],\n",
              "      dtype=float32)"
            ]
          },
          "metadata": {},
          "execution_count": 9
        }
      ],
      "source": [
        "test_predictions = model.predict(test_dataset)\n",
        "test_predictions"
      ],
      "id": "b1275c3a"
    },
    {
      "cell_type": "code",
      "execution_count": null,
      "metadata": {
        "id": "YSrYyCiTO7L7",
        "colab": {
          "base_uri": "https://localhost:8080/",
          "height": 279
        },
        "outputId": "b5400b17-6ccf-4483-afee-06e5bd804438"
      },
      "outputs": [
        {
          "output_type": "display_data",
          "data": {
            "text/plain": [
              "<Figure size 432x288 with 1 Axes>"
            ],
            "image/png": "[encoded data removed]"
          },
          "metadata": {
            "needs_background": "light"
          }
        }
      ],
      "source": [
        "import matplotlib.pyplot as plt\n",
        "# Get training and test loss histories\n",
        "training_loss = model_fit.history['loss']\n",
        "test_loss = model_fit.history['val_loss']\n",
        "\n",
        "# Create count of the number of epochs\n",
        "epoch_count = range(1, len(training_loss) + 1)\n",
        "\n",
        "# Visualize loss history\n",
        "plt.plot(epoch_count, training_loss, 'r--')\n",
        "plt.plot(epoch_count, test_loss, 'b-')\n",
        "plt.legend(['Training Loss', 'Test Loss'])\n",
        "plt.xlabel('Epoch')\n",
        "plt.ylabel('Loss')\n",
        "plt.show();"
      ],
      "id": "YSrYyCiTO7L7"
    },
    {
      "cell_type": "code",
      "execution_count": null,
      "metadata": {
        "id": "_MKR_lk9j0yR",
        "colab": {
          "base_uri": "https://localhost:8080/",
          "height": 279
        },
        "outputId": "8afb3084-ab84-4ce2-a7ac-675d8508f667"
      },
      "outputs": [
        {
          "output_type": "display_data",
          "data": {
            "text/plain": [
              "<Figure size 432x288 with 1 Axes>"
            ],
            "image/png": "[encoded data removed]"
          },
          "metadata": {
            "needs_background": "light"
          }
        }
      ],
      "source": [
        "loss = model_fit.history['loss']\n",
        "accuracy = model_fit.history['accuracy']\n",
        "\n",
        "# Create count of the number of epochs\n",
        "epoch_count = range(1, len(accuracy) + 1)\n",
        "\n",
        "# Visualize loss history\n",
        "plt.plot(epoch_count, loss, 'r--')\n",
        "plt.plot(epoch_count, accuracy, 'b-')\n",
        "plt.legend(['loss', 'accuracy'])\n",
        "plt.xlabel('Epoch')\n",
        "plt.ylabel('Accuracy')\n",
        "plt.show();"
      ],
      "id": "_MKR_lk9j0yR"
    }
  ],
  "metadata": {
    "accelerator": "GPU",
    "colab": {
      "collapsed_sections": [],
      "provenance": [],
      "include_colab_link": true
    },
    "kernelspec": {
      "display_name": "gputest",
      "language": "python",
      "name": "gputest"
    },
    "language_info": {
      "codemirror_mode": {
        "name": "ipython",
        "version": 3
      },
      "file_extension": ".py",
      "mimetype": "text/x-python",
      "name": "python",
      "nbconvert_exporter": "python",
      "pygments_lexer": "ipython3",
      "version": "3.9.12"
    }
  },
  "nbformat": 4,
  "nbformat_minor": 5
}